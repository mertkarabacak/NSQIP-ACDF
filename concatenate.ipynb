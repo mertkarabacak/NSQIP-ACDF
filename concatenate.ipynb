{
 "cells": [
  {
   "cell_type": "code",
   "execution_count": 1,
   "id": "b7069c46-b444-4100-b7d9-c884c759b493",
   "metadata": {},
   "outputs": [],
   "source": [
    "import pandas as pd"
   ]
  },
  {
   "cell_type": "code",
   "execution_count": 2,
   "id": "83ebea8e-eaf9-4e4c-95b0-7b18bcac7215",
   "metadata": {},
   "outputs": [],
   "source": [
    "#Read 2020 data.\n",
    "\n",
    "df2020 = pd.read_csv(\"NSQIP_2020.csv\", index_col = 'CaseID', encoding = 'latin1', low_memory = False)\n",
    "\n",
    "df2020.columns = map(str.upper, df2020.columns)"
   ]
  },
  {
   "cell_type": "code",
   "execution_count": 3,
   "id": "37b4e4d8-f7d9-4715-86e4-a52a158b4626",
   "metadata": {},
   "outputs": [],
   "source": [
    "#Drop the columns that are not present in other years.\n",
    "\n",
    "df2020 = df2020.drop(columns=['EOL_WDCARE', 'BLEED_UNITS_TOT'])"
   ]
  },
  {
   "cell_type": "code",
   "execution_count": 4,
   "id": "336cffa1-eca7-41ba-9fda-844b73a7068f",
   "metadata": {},
   "outputs": [
    {
     "data": {
      "text/plain": [
       "(902968, 273)"
      ]
     },
     "execution_count": 4,
     "metadata": {},
     "output_type": "execute_result"
    }
   ],
   "source": [
    "#Check 2020 data shape.\n",
    "\n",
    "df2020.shape"
   ]
  },
  {
   "cell_type": "code",
   "execution_count": 5,
   "id": "085e47a0-deef-46ab-be43-3c70880b3cce",
   "metadata": {},
   "outputs": [
    {
     "data": {
      "text/plain": [
       "(9675, 273)"
      ]
     },
     "execution_count": 5,
     "metadata": {},
     "output_type": "execute_result"
    }
   ],
   "source": [
    "#Identify spinal tumor patients with CPT codes.\n",
    "\n",
    "df2020_acdf = df2020[(df2020['CPT'] == 22551) | (df2020['CPT'] == 22552) | (df2020['CPT'] == 22554)]\n",
    "\n",
    "df2020_acdf.shape"
   ]
  },
  {
   "cell_type": "code",
   "execution_count": 7,
   "id": "a9542653-5403-410b-bf62-664e14f6462b",
   "metadata": {},
   "outputs": [],
   "source": [
    "#Read 2019 data.\n",
    "\n",
    "df2019 = pd.read_csv(\"NSQIP_2019.csv\", index_col = 'CASEID', encoding = 'latin1', low_memory = False)\n",
    "\n",
    "df2019.columns = map(str.upper, df2019.columns)"
   ]
  },
  {
   "cell_type": "code",
   "execution_count": 8,
   "id": "779f98b3-ebfc-45bc-97b6-084feee4fb16",
   "metadata": {},
   "outputs": [
    {
     "data": {
      "text/plain": [
       "(1048575, 273)"
      ]
     },
     "execution_count": 8,
     "metadata": {},
     "output_type": "execute_result"
    }
   ],
   "source": [
    "#Check 2019 data shape.\n",
    "\n",
    "df2019.shape"
   ]
  },
  {
   "cell_type": "code",
   "execution_count": 9,
   "id": "c6fb2a92-7924-4965-8282-2fd54bcac03b",
   "metadata": {},
   "outputs": [
    {
     "data": {
      "text/plain": [
       "(11034, 273)"
      ]
     },
     "execution_count": 9,
     "metadata": {},
     "output_type": "execute_result"
    }
   ],
   "source": [
    "#Identify spinal tumor patients with CPT codes.\n",
    "\n",
    "df2019_acdf = df2019[(df2019['CPT'] == 22551) | (df2019['CPT'] == 22552) | (df2019['CPT'] == 22554)]\n",
    "\n",
    "df2019_acdf.shape"
   ]
  },
  {
   "cell_type": "code",
   "execution_count": 10,
   "id": "cb772fcf-d268-4221-93a0-5eb5c265c935",
   "metadata": {},
   "outputs": [],
   "source": [
    "#Read 2018 data.\n",
    "\n",
    "df2018 = pd.read_csv(\"NSQIP_2018.csv\", index_col = 'CaseID', encoding = 'latin1', low_memory = False)\n",
    "\n",
    "df2018.columns = map(str.upper, df2018.columns)"
   ]
  },
  {
   "cell_type": "code",
   "execution_count": 11,
   "id": "e40d915a-d1c3-4efd-b325-6245ec91323d",
   "metadata": {},
   "outputs": [
    {
     "data": {
      "text/plain": [
       "(1020511, 273)"
      ]
     },
     "execution_count": 11,
     "metadata": {},
     "output_type": "execute_result"
    }
   ],
   "source": [
    "#Check 2018 data shape.\n",
    "\n",
    "df2018.shape"
   ]
  },
  {
   "cell_type": "code",
   "execution_count": 12,
   "id": "e8bc3025-d320-46fb-8a4b-e2ba478dbb30",
   "metadata": {},
   "outputs": [
    {
     "data": {
      "text/plain": [
       "(10513, 273)"
      ]
     },
     "execution_count": 12,
     "metadata": {},
     "output_type": "execute_result"
    }
   ],
   "source": [
    "#Identify spinal tumor patients with CPT codes.\n",
    "\n",
    "df2018_acdf = df2018[(df2018['CPT'] == 22551) | (df2018['CPT'] == 22552) | (df2018['CPT'] == 22554)]\n",
    "\n",
    "df2018_acdf.shape"
   ]
  },
  {
   "cell_type": "code",
   "execution_count": 13,
   "id": "5170bbc1-b5d3-4c09-9657-d25b0ac0ecba",
   "metadata": {},
   "outputs": [],
   "source": [
    "#Read 2017 data.\n",
    "\n",
    "df2017 = pd.read_csv(\"NSQIP_2017.csv\", index_col = 'CaseID', encoding = 'latin1', low_memory = False)\n",
    "\n",
    "df2017.columns = map(str.upper, df2017.columns)"
   ]
  },
  {
   "cell_type": "code",
   "execution_count": 14,
   "id": "992f5c92-fbb3-48d1-93de-b980c60a9ff3",
   "metadata": {},
   "outputs": [
    {
     "data": {
      "text/plain": [
       "(1028713, 273)"
      ]
     },
     "execution_count": 14,
     "metadata": {},
     "output_type": "execute_result"
    }
   ],
   "source": [
    "#Check 2017 data shape.\n",
    "\n",
    "df2017.shape"
   ]
  },
  {
   "cell_type": "code",
   "execution_count": 15,
   "id": "37d5f575-43ab-4f3e-929a-70e0e0a75419",
   "metadata": {},
   "outputs": [
    {
     "data": {
      "text/plain": [
       "(10890, 273)"
      ]
     },
     "execution_count": 15,
     "metadata": {},
     "output_type": "execute_result"
    }
   ],
   "source": [
    "#Identify spinal tumor patients with CPT codes.\n",
    "\n",
    "df2017_acdf = df2017[(df2017['CPT'] == 22551) | (df2017['CPT'] == 22552) | (df2017['CPT'] == 22554)]\n",
    "\n",
    "df2017_acdf.shape"
   ]
  },
  {
   "cell_type": "code",
   "execution_count": 16,
   "id": "24ac9edb-b63f-4dae-a208-26ecf6c94b11",
   "metadata": {},
   "outputs": [],
   "source": [
    "#Read 2016 data.\n",
    "\n",
    "df2016 = pd.read_csv(\"NSQIP_2016.csv\", index_col = 'CaseID', encoding = 'latin1', low_memory = False)\n",
    "\n",
    "df2016.columns = map(str.upper, df2016.columns)"
   ]
  },
  {
   "cell_type": "code",
   "execution_count": 17,
   "id": "c12cee42-43df-40fc-990e-3e88acd63726",
   "metadata": {},
   "outputs": [
    {
     "data": {
      "text/plain": [
       "(1000393, 273)"
      ]
     },
     "execution_count": 17,
     "metadata": {},
     "output_type": "execute_result"
    }
   ],
   "source": [
    "#Check 2016 data shape.\n",
    "\n",
    "df2016.shape"
   ]
  },
  {
   "cell_type": "code",
   "execution_count": 18,
   "id": "dd9866b0-c2dc-4da0-b9a6-f738f20b4e7b",
   "metadata": {},
   "outputs": [
    {
     "data": {
      "text/plain": [
       "(10860, 273)"
      ]
     },
     "execution_count": 18,
     "metadata": {},
     "output_type": "execute_result"
    }
   ],
   "source": [
    "#Identify spinal tumor patients with CPT codes.\n",
    "\n",
    "df2016_acdf = df2016[(df2016['CPT'] == 22551) | (df2016['CPT'] == 22552) | (df2016['CPT'] == 22554)]\n",
    "\n",
    "df2016_acdf.shape"
   ]
  },
  {
   "cell_type": "code",
   "execution_count": 19,
   "id": "1b7d99af-1e65-4876-af89-7255c85e4160",
   "metadata": {},
   "outputs": [],
   "source": [
    "#Combine data.\n",
    "\n",
    "dfs = [df2016_acdf, df2017_acdf, df2018_acdf, df2019_acdf, df2020_acdf]\n",
    "\n",
    "combined = pd.concat(dfs)"
   ]
  },
  {
   "cell_type": "code",
   "execution_count": 20,
   "id": "8618f193-6d71-4a63-8e03-c55a5a87c117",
   "metadata": {},
   "outputs": [
    {
     "data": {
      "text/plain": [
       "(52972, 273)"
      ]
     },
     "execution_count": 20,
     "metadata": {},
     "output_type": "execute_result"
    }
   ],
   "source": [
    "#Check data shape.\n",
    "\n",
    "combined.shape"
   ]
  },
  {
   "cell_type": "code",
   "execution_count": 21,
   "id": "d1fead1c-70b3-4814-9546-c1e6bfe8fa13",
   "metadata": {},
   "outputs": [
    {
     "data": {
      "text/html": [
       "<div>\n",
       "<style scoped>\n",
       "    .dataframe tbody tr th:only-of-type {\n",
       "        vertical-align: middle;\n",
       "    }\n",
       "\n",
       "    .dataframe tbody tr th {\n",
       "        vertical-align: top;\n",
       "    }\n",
       "\n",
       "    .dataframe thead th {\n",
       "        text-align: right;\n",
       "    }\n",
       "</style>\n",
       "<table border=\"1\" class=\"dataframe\">\n",
       "  <thead>\n",
       "    <tr style=\"text-align: right;\">\n",
       "      <th></th>\n",
       "      <th>PUFYEAR</th>\n",
       "      <th>SEX</th>\n",
       "      <th>RACE_NEW</th>\n",
       "      <th>ETHNICITY_HISPANIC</th>\n",
       "      <th>PRNCPTX</th>\n",
       "      <th>CPT</th>\n",
       "      <th>WORKRVU</th>\n",
       "      <th>INOUT</th>\n",
       "      <th>TRANST</th>\n",
       "      <th>AGE</th>\n",
       "      <th>...</th>\n",
       "      <th>READMRELICD105</th>\n",
       "      <th>READMUNRELICD95</th>\n",
       "      <th>READMUNRELICD105</th>\n",
       "      <th>WOUND_CLOSURE</th>\n",
       "      <th>PODIAG_OTHER</th>\n",
       "      <th>PODIAG_OTHER10</th>\n",
       "      <th>ANESTHES_OTHER</th>\n",
       "      <th>OTHCDIFF</th>\n",
       "      <th>NOTHCDIFF</th>\n",
       "      <th>DOTHCDIFF</th>\n",
       "    </tr>\n",
       "  </thead>\n",
       "  <tbody>\n",
       "    <tr>\n",
       "      <th>5090996</th>\n",
       "      <td>2016</td>\n",
       "      <td>male</td>\n",
       "      <td>White</td>\n",
       "      <td>No</td>\n",
       "      <td>ARTHRD ANT INTERBODY DECOMPRESS CERVICAL BELW C2</td>\n",
       "      <td>22551</td>\n",
       "      <td>25.0</td>\n",
       "      <td>Inpatient</td>\n",
       "      <td>Not transferred (admitted from home)</td>\n",
       "      <td>70</td>\n",
       "      <td>...</td>\n",
       "      <td>NaN</td>\n",
       "      <td>NaN</td>\n",
       "      <td>NaN</td>\n",
       "      <td>All layers of incision (deep and superficial) ...</td>\n",
       "      <td>NaN</td>\n",
       "      <td>NaN</td>\n",
       "      <td>Local</td>\n",
       "      <td>No Complication</td>\n",
       "      <td>0</td>\n",
       "      <td>-99</td>\n",
       "    </tr>\n",
       "    <tr>\n",
       "      <th>5089868</th>\n",
       "      <td>2016</td>\n",
       "      <td>male</td>\n",
       "      <td>White</td>\n",
       "      <td>No</td>\n",
       "      <td>ARTHRD ANT INTERBODY DECOMPRESS CERVICAL BELW C2</td>\n",
       "      <td>22551</td>\n",
       "      <td>25.0</td>\n",
       "      <td>Inpatient</td>\n",
       "      <td>Not transferred (admitted from home)</td>\n",
       "      <td>60</td>\n",
       "      <td>...</td>\n",
       "      <td>NaN</td>\n",
       "      <td>NaN</td>\n",
       "      <td>NaN</td>\n",
       "      <td>All layers of incision (deep and superficial) ...</td>\n",
       "      <td>NaN</td>\n",
       "      <td>NaN</td>\n",
       "      <td>NaN</td>\n",
       "      <td>No Complication</td>\n",
       "      <td>0</td>\n",
       "      <td>-99</td>\n",
       "    </tr>\n",
       "    <tr>\n",
       "      <th>5092013</th>\n",
       "      <td>2016</td>\n",
       "      <td>female</td>\n",
       "      <td>White</td>\n",
       "      <td>No</td>\n",
       "      <td>ARTHRD ANT INTERBODY DECOMPRESS CERVICAL BELW C2</td>\n",
       "      <td>22551</td>\n",
       "      <td>25.0</td>\n",
       "      <td>Inpatient</td>\n",
       "      <td>Not transferred (admitted from home)</td>\n",
       "      <td>47</td>\n",
       "      <td>...</td>\n",
       "      <td>NaN</td>\n",
       "      <td>NaN</td>\n",
       "      <td>NaN</td>\n",
       "      <td>All layers of incision (deep and superficial) ...</td>\n",
       "      <td>NaN</td>\n",
       "      <td>NaN</td>\n",
       "      <td>NaN</td>\n",
       "      <td>No Complication</td>\n",
       "      <td>0</td>\n",
       "      <td>-99</td>\n",
       "    </tr>\n",
       "    <tr>\n",
       "      <th>5121528</th>\n",
       "      <td>2016</td>\n",
       "      <td>female</td>\n",
       "      <td>White</td>\n",
       "      <td>No</td>\n",
       "      <td>ARTHRD ANT INTERBODY DECOMPRESS CERVICAL BELW C2</td>\n",
       "      <td>22551</td>\n",
       "      <td>25.0</td>\n",
       "      <td>Inpatient</td>\n",
       "      <td>Not transferred (admitted from home)</td>\n",
       "      <td>55</td>\n",
       "      <td>...</td>\n",
       "      <td>NaN</td>\n",
       "      <td>NaN</td>\n",
       "      <td>NaN</td>\n",
       "      <td>All layers of incision (deep and superficial) ...</td>\n",
       "      <td>NaN</td>\n",
       "      <td>NaN</td>\n",
       "      <td>NaN</td>\n",
       "      <td>No Complication</td>\n",
       "      <td>0</td>\n",
       "      <td>-99</td>\n",
       "    </tr>\n",
       "    <tr>\n",
       "      <th>5156517</th>\n",
       "      <td>2016</td>\n",
       "      <td>female</td>\n",
       "      <td>White</td>\n",
       "      <td>No</td>\n",
       "      <td>ARTHRD ANT INTERBODY DECOMPRESS CERVICAL BELW C2</td>\n",
       "      <td>22551</td>\n",
       "      <td>25.0</td>\n",
       "      <td>Inpatient</td>\n",
       "      <td>Not transferred (admitted from home)</td>\n",
       "      <td>60</td>\n",
       "      <td>...</td>\n",
       "      <td>NaN</td>\n",
       "      <td>NaN</td>\n",
       "      <td>NaN</td>\n",
       "      <td>All layers of incision (deep and superficial) ...</td>\n",
       "      <td>NaN</td>\n",
       "      <td>NaN</td>\n",
       "      <td>Local</td>\n",
       "      <td>No Complication</td>\n",
       "      <td>0</td>\n",
       "      <td>-99</td>\n",
       "    </tr>\n",
       "  </tbody>\n",
       "</table>\n",
       "<p>5 rows × 273 columns</p>\n",
       "</div>"
      ],
      "text/plain": [
       "         PUFYEAR     SEX RACE_NEW ETHNICITY_HISPANIC  \\\n",
       "5090996     2016    male    White                 No   \n",
       "5089868     2016    male    White                 No   \n",
       "5092013     2016  female    White                 No   \n",
       "5121528     2016  female    White                 No   \n",
       "5156517     2016  female    White                 No   \n",
       "\n",
       "                                                  PRNCPTX    CPT  WORKRVU  \\\n",
       "5090996  ARTHRD ANT INTERBODY DECOMPRESS CERVICAL BELW C2  22551     25.0   \n",
       "5089868  ARTHRD ANT INTERBODY DECOMPRESS CERVICAL BELW C2  22551     25.0   \n",
       "5092013  ARTHRD ANT INTERBODY DECOMPRESS CERVICAL BELW C2  22551     25.0   \n",
       "5121528  ARTHRD ANT INTERBODY DECOMPRESS CERVICAL BELW C2  22551     25.0   \n",
       "5156517  ARTHRD ANT INTERBODY DECOMPRESS CERVICAL BELW C2  22551     25.0   \n",
       "\n",
       "             INOUT                                TRANST AGE  ...  \\\n",
       "5090996  Inpatient  Not transferred (admitted from home)  70  ...   \n",
       "5089868  Inpatient  Not transferred (admitted from home)  60  ...   \n",
       "5092013  Inpatient  Not transferred (admitted from home)  47  ...   \n",
       "5121528  Inpatient  Not transferred (admitted from home)  55  ...   \n",
       "5156517  Inpatient  Not transferred (admitted from home)  60  ...   \n",
       "\n",
       "         READMRELICD105  READMUNRELICD95 READMUNRELICD105  \\\n",
       "5090996             NaN              NaN              NaN   \n",
       "5089868             NaN              NaN              NaN   \n",
       "5092013             NaN              NaN              NaN   \n",
       "5121528             NaN              NaN              NaN   \n",
       "5156517             NaN              NaN              NaN   \n",
       "\n",
       "                                             WOUND_CLOSURE PODIAG_OTHER  \\\n",
       "5090996  All layers of incision (deep and superficial) ...          NaN   \n",
       "5089868  All layers of incision (deep and superficial) ...          NaN   \n",
       "5092013  All layers of incision (deep and superficial) ...          NaN   \n",
       "5121528  All layers of incision (deep and superficial) ...          NaN   \n",
       "5156517  All layers of incision (deep and superficial) ...          NaN   \n",
       "\n",
       "        PODIAG_OTHER10  ANESTHES_OTHER         OTHCDIFF NOTHCDIFF DOTHCDIFF  \n",
       "5090996            NaN           Local  No Complication         0       -99  \n",
       "5089868            NaN             NaN  No Complication         0       -99  \n",
       "5092013            NaN             NaN  No Complication         0       -99  \n",
       "5121528            NaN             NaN  No Complication         0       -99  \n",
       "5156517            NaN           Local  No Complication         0       -99  \n",
       "\n",
       "[5 rows x 273 columns]"
      ]
     },
     "execution_count": 21,
     "metadata": {},
     "output_type": "execute_result"
    }
   ],
   "source": [
    "#See combined dataframe head.\n",
    "\n",
    "combined.head()"
   ]
  },
  {
   "cell_type": "code",
   "execution_count": 22,
   "id": "9088cd6b-d531-4450-9913-37be2ac78587",
   "metadata": {},
   "outputs": [
    {
     "data": {
      "text/html": [
       "<div>\n",
       "<style scoped>\n",
       "    .dataframe tbody tr th:only-of-type {\n",
       "        vertical-align: middle;\n",
       "    }\n",
       "\n",
       "    .dataframe tbody tr th {\n",
       "        vertical-align: top;\n",
       "    }\n",
       "\n",
       "    .dataframe thead th {\n",
       "        text-align: right;\n",
       "    }\n",
       "</style>\n",
       "<table border=\"1\" class=\"dataframe\">\n",
       "  <thead>\n",
       "    <tr style=\"text-align: right;\">\n",
       "      <th></th>\n",
       "      <th>PUFYEAR</th>\n",
       "      <th>SEX</th>\n",
       "      <th>RACE_NEW</th>\n",
       "      <th>ETHNICITY_HISPANIC</th>\n",
       "      <th>PRNCPTX</th>\n",
       "      <th>CPT</th>\n",
       "      <th>WORKRVU</th>\n",
       "      <th>INOUT</th>\n",
       "      <th>TRANST</th>\n",
       "      <th>AGE</th>\n",
       "      <th>...</th>\n",
       "      <th>READMRELICD105</th>\n",
       "      <th>READMUNRELICD95</th>\n",
       "      <th>READMUNRELICD105</th>\n",
       "      <th>WOUND_CLOSURE</th>\n",
       "      <th>PODIAG_OTHER</th>\n",
       "      <th>PODIAG_OTHER10</th>\n",
       "      <th>ANESTHES_OTHER</th>\n",
       "      <th>OTHCDIFF</th>\n",
       "      <th>NOTHCDIFF</th>\n",
       "      <th>DOTHCDIFF</th>\n",
       "    </tr>\n",
       "  </thead>\n",
       "  <tbody>\n",
       "    <tr>\n",
       "      <th>10383588</th>\n",
       "      <td>2020</td>\n",
       "      <td>female</td>\n",
       "      <td>White</td>\n",
       "      <td>No</td>\n",
       "      <td>ARTHRD ANT INTERBODY DECOMPRESS CERVICAL BELW C2</td>\n",
       "      <td>22551</td>\n",
       "      <td>25.00</td>\n",
       "      <td>Outpatient</td>\n",
       "      <td>Not transferred (admitted from home)</td>\n",
       "      <td>67</td>\n",
       "      <td>...</td>\n",
       "      <td>NaN</td>\n",
       "      <td>NaN</td>\n",
       "      <td>NaN</td>\n",
       "      <td>All layers of incision (deep and superficial) ...</td>\n",
       "      <td>NaN</td>\n",
       "      <td>NaN</td>\n",
       "      <td>NaN</td>\n",
       "      <td>No Complication</td>\n",
       "      <td>0</td>\n",
       "      <td>-99</td>\n",
       "    </tr>\n",
       "    <tr>\n",
       "      <th>10383590</th>\n",
       "      <td>2020</td>\n",
       "      <td>male</td>\n",
       "      <td>White</td>\n",
       "      <td>No</td>\n",
       "      <td>ARTHRD ANT INTERBODY DECOMPRESS CERVICAL BELW C2</td>\n",
       "      <td>22551</td>\n",
       "      <td>25.00</td>\n",
       "      <td>Outpatient</td>\n",
       "      <td>Not transferred (admitted from home)</td>\n",
       "      <td>65</td>\n",
       "      <td>...</td>\n",
       "      <td>NaN</td>\n",
       "      <td>NaN</td>\n",
       "      <td>NaN</td>\n",
       "      <td>All layers of incision (deep and superficial) ...</td>\n",
       "      <td>NaN</td>\n",
       "      <td>NaN</td>\n",
       "      <td>NaN</td>\n",
       "      <td>No Complication</td>\n",
       "      <td>0</td>\n",
       "      <td>-99</td>\n",
       "    </tr>\n",
       "    <tr>\n",
       "      <th>10383707</th>\n",
       "      <td>2020</td>\n",
       "      <td>male</td>\n",
       "      <td>White</td>\n",
       "      <td>No</td>\n",
       "      <td>ARTHRD ANT INTERBODY DECOMPRESS CERVICAL BELW C2</td>\n",
       "      <td>22551</td>\n",
       "      <td>25.00</td>\n",
       "      <td>Outpatient</td>\n",
       "      <td>Not transferred (admitted from home)</td>\n",
       "      <td>54</td>\n",
       "      <td>...</td>\n",
       "      <td>NaN</td>\n",
       "      <td>NaN</td>\n",
       "      <td>NaN</td>\n",
       "      <td>All layers of incision (deep and superficial) ...</td>\n",
       "      <td>NaN</td>\n",
       "      <td>NaN</td>\n",
       "      <td>NaN</td>\n",
       "      <td>No Complication</td>\n",
       "      <td>0</td>\n",
       "      <td>-99</td>\n",
       "    </tr>\n",
       "    <tr>\n",
       "      <th>10425237</th>\n",
       "      <td>2020</td>\n",
       "      <td>male</td>\n",
       "      <td>White</td>\n",
       "      <td>No</td>\n",
       "      <td>ARTHRD ANT INTERBODY DECOMPRESS CERVICAL BELW C2</td>\n",
       "      <td>22551</td>\n",
       "      <td>25.00</td>\n",
       "      <td>Outpatient</td>\n",
       "      <td>Not transferred (admitted from home)</td>\n",
       "      <td>54</td>\n",
       "      <td>...</td>\n",
       "      <td>NaN</td>\n",
       "      <td>NaN</td>\n",
       "      <td>NaN</td>\n",
       "      <td>All layers of incision (deep and superficial) ...</td>\n",
       "      <td>NaN</td>\n",
       "      <td>NaN</td>\n",
       "      <td>NaN</td>\n",
       "      <td>No Complication</td>\n",
       "      <td>0</td>\n",
       "      <td>-99</td>\n",
       "    </tr>\n",
       "    <tr>\n",
       "      <th>10458089</th>\n",
       "      <td>2020</td>\n",
       "      <td>male</td>\n",
       "      <td>White</td>\n",
       "      <td>No</td>\n",
       "      <td>ARTHRD ANT MIN DISCECT INTERBODY CERV BELOW C2</td>\n",
       "      <td>22554</td>\n",
       "      <td>17.69</td>\n",
       "      <td>Inpatient</td>\n",
       "      <td>Not transferred (admitted from home)</td>\n",
       "      <td>47</td>\n",
       "      <td>...</td>\n",
       "      <td>NaN</td>\n",
       "      <td>NaN</td>\n",
       "      <td>NaN</td>\n",
       "      <td>All layers of incision (deep and superficial) ...</td>\n",
       "      <td>NaN</td>\n",
       "      <td>NaN</td>\n",
       "      <td>NaN</td>\n",
       "      <td>No Complication</td>\n",
       "      <td>0</td>\n",
       "      <td>-99</td>\n",
       "    </tr>\n",
       "  </tbody>\n",
       "</table>\n",
       "<p>5 rows × 273 columns</p>\n",
       "</div>"
      ],
      "text/plain": [
       "          PUFYEAR     SEX RACE_NEW ETHNICITY_HISPANIC  \\\n",
       "10383588     2020  female    White                 No   \n",
       "10383590     2020    male    White                 No   \n",
       "10383707     2020    male    White                 No   \n",
       "10425237     2020    male    White                 No   \n",
       "10458089     2020    male    White                 No   \n",
       "\n",
       "                                                   PRNCPTX    CPT  WORKRVU  \\\n",
       "10383588  ARTHRD ANT INTERBODY DECOMPRESS CERVICAL BELW C2  22551    25.00   \n",
       "10383590  ARTHRD ANT INTERBODY DECOMPRESS CERVICAL BELW C2  22551    25.00   \n",
       "10383707  ARTHRD ANT INTERBODY DECOMPRESS CERVICAL BELW C2  22551    25.00   \n",
       "10425237  ARTHRD ANT INTERBODY DECOMPRESS CERVICAL BELW C2  22551    25.00   \n",
       "10458089    ARTHRD ANT MIN DISCECT INTERBODY CERV BELOW C2  22554    17.69   \n",
       "\n",
       "               INOUT                                TRANST AGE  ...  \\\n",
       "10383588  Outpatient  Not transferred (admitted from home)  67  ...   \n",
       "10383590  Outpatient  Not transferred (admitted from home)  65  ...   \n",
       "10383707  Outpatient  Not transferred (admitted from home)  54  ...   \n",
       "10425237  Outpatient  Not transferred (admitted from home)  54  ...   \n",
       "10458089   Inpatient  Not transferred (admitted from home)  47  ...   \n",
       "\n",
       "          READMRELICD105  READMUNRELICD95 READMUNRELICD105  \\\n",
       "10383588             NaN              NaN              NaN   \n",
       "10383590             NaN              NaN              NaN   \n",
       "10383707             NaN              NaN              NaN   \n",
       "10425237             NaN              NaN              NaN   \n",
       "10458089             NaN              NaN              NaN   \n",
       "\n",
       "                                              WOUND_CLOSURE PODIAG_OTHER  \\\n",
       "10383588  All layers of incision (deep and superficial) ...          NaN   \n",
       "10383590  All layers of incision (deep and superficial) ...          NaN   \n",
       "10383707  All layers of incision (deep and superficial) ...          NaN   \n",
       "10425237  All layers of incision (deep and superficial) ...          NaN   \n",
       "10458089  All layers of incision (deep and superficial) ...          NaN   \n",
       "\n",
       "         PODIAG_OTHER10  ANESTHES_OTHER         OTHCDIFF NOTHCDIFF DOTHCDIFF  \n",
       "10383588            NaN             NaN  No Complication         0       -99  \n",
       "10383590            NaN             NaN  No Complication         0       -99  \n",
       "10383707            NaN             NaN  No Complication         0       -99  \n",
       "10425237            NaN             NaN  No Complication         0       -99  \n",
       "10458089            NaN             NaN  No Complication         0       -99  \n",
       "\n",
       "[5 rows x 273 columns]"
      ]
     },
     "execution_count": 22,
     "metadata": {},
     "output_type": "execute_result"
    }
   ],
   "source": [
    "#See combined dataframe tail.\n",
    "\n",
    "combined.tail()"
   ]
  },
  {
   "cell_type": "code",
   "execution_count": 23,
   "id": "cd269ba3-7d20-402e-96f1-c4394e1fef3b",
   "metadata": {},
   "outputs": [],
   "source": [
    "#Save combined data.\n",
    "\n",
    "combined.to_csv('acdf_combined.csv')"
   ]
  }
 ],
 "metadata": {
  "environment": {
   "kernel": "python3",
   "name": "common-cpu.m100",
   "type": "gcloud",
   "uri": "gcr.io/deeplearning-platform-release/base-cpu:m100"
  },
  "kernelspec": {
   "display_name": "Python 3",
   "language": "python",
   "name": "python3"
  },
  "language_info": {
   "codemirror_mode": {
    "name": "ipython",
    "version": 3
   },
   "file_extension": ".py",
   "mimetype": "text/x-python",
   "name": "python",
   "nbconvert_exporter": "python",
   "pygments_lexer": "ipython3",
   "version": "3.7.12"
  }
 },
 "nbformat": 4,
 "nbformat_minor": 5
}
