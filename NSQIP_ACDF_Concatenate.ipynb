{
 "cells": [
  {
   "cell_type": "code",
   "execution_count": null,
   "id": "bEyL09xrW9Nw",
   "metadata": {
    "colab": {
     "base_uri": "https://localhost:8080/"
    },
    "executionInfo": {
     "elapsed": 15920,
     "status": "ok",
     "timestamp": 1685109078958,
     "user": {
      "displayName": "Mert Karabacak",
      "userId": "14308977132914475412"
     },
     "user_tz": 240
    },
    "id": "bEyL09xrW9Nw",
    "outputId": "834fada1-e483-4048-c929-2fb6362f6145"
   },
   "outputs": [],
   "source": [
    "from google.colab import drive\n",
    "import pandas as pd\n",
    "\n",
    "drive.mount('/content/drive')"
   ]
  },
  {
   "cell_type": "code",
   "execution_count": null,
   "id": "VHFgMrrTY6m_",
   "metadata": {
    "executionInfo": {
     "elapsed": 6,
     "status": "ok",
     "timestamp": 1685109078959,
     "user": {
      "displayName": "Mert Karabacak",
      "userId": "14308977132914475412"
     },
     "user_tz": 240
    },
    "id": "VHFgMrrTY6m_"
   },
   "outputs": [],
   "source": [
    "#Define CPT codes to be including.\n",
    "\n",
    "cpt_codes = [22551, 22552, 22554, 22585]"
   ]
  },
  {
   "cell_type": "code",
   "execution_count": null,
   "id": "83ebea8e-eaf9-4e4c-95b0-7b18bcac7215",
   "metadata": {
    "executionInfo": {
     "elapsed": 59493,
     "status": "ok",
     "timestamp": 1685109138448,
     "user": {
      "displayName": "Mert Karabacak",
      "userId": "14308977132914475412"
     },
     "user_tz": 240
    },
    "id": "83ebea8e-eaf9-4e4c-95b0-7b18bcac7215"
   },
   "outputs": [],
   "source": [
    "#Read 2020 data.\n",
    "\n",
    "df2020 = pd.read_csv(\"/content/drive/MyDrive/NSQIP-PUFs/NSQIP_2020.csv\", index_col = 'CaseID', encoding = 'latin1', low_memory = False)\n",
    "\n",
    "df2020.columns = map(str.upper, df2020.columns)"
   ]
  },
  {
   "cell_type": "code",
   "execution_count": null,
   "id": "37b4e4d8-f7d9-4715-86e4-a52a158b4626",
   "metadata": {
    "executionInfo": {
     "elapsed": 840,
     "status": "ok",
     "timestamp": 1685109139280,
     "user": {
      "displayName": "Mert Karabacak",
      "userId": "14308977132914475412"
     },
     "user_tz": 240
    },
    "id": "37b4e4d8-f7d9-4715-86e4-a52a158b4626"
   },
   "outputs": [],
   "source": [
    "#Drop the columns that are not present in other years.\n",
    "\n",
    "df2020 = df2020.drop(columns=['EOL_WDCARE', 'BLEED_UNITS_TOT'])"
   ]
  },
  {
   "cell_type": "code",
   "execution_count": null,
   "id": "336cffa1-eca7-41ba-9fda-844b73a7068f",
   "metadata": {
    "colab": {
     "base_uri": "https://localhost:8080/"
    },
    "executionInfo": {
     "elapsed": 9,
     "status": "ok",
     "timestamp": 1685109139280,
     "user": {
      "displayName": "Mert Karabacak",
      "userId": "14308977132914475412"
     },
     "user_tz": 240
    },
    "id": "336cffa1-eca7-41ba-9fda-844b73a7068f",
    "outputId": "65861159-5b27-49dd-ee7e-13e5ce0bdf5b"
   },
   "outputs": [],
   "source": [
    "#Check 2020 data shape.\n",
    "\n",
    "df2020.shape"
   ]
  },
  {
   "cell_type": "code",
   "execution_count": null,
   "id": "085e47a0-deef-46ab-be43-3c70880b3cce",
   "metadata": {
    "colab": {
     "base_uri": "https://localhost:8080/"
    },
    "executionInfo": {
     "elapsed": 1474,
     "status": "ok",
     "timestamp": 1685109140749,
     "user": {
      "displayName": "Mert Karabacak",
      "userId": "14308977132914475412"
     },
     "user_tz": 240
    },
    "id": "085e47a0-deef-46ab-be43-3c70880b3cce",
    "outputId": "1cae69e1-735c-4ea9-e1ed-2610b9855873"
   },
   "outputs": [],
   "source": [
    "#Identify patients with CPT codes.\n",
    "\n",
    "df2020 = df2020[df2020[['CPT', 'CONCPT1', 'CONCPT2', 'CONCPT3', 'CONCPT4', 'CONCPT5', 'CONCPT6', 'CONCPT7', 'CONCPT8', 'CONCPT9', 'CONCPT10', 'OTHERCPT1', 'OTHERCPT2', 'OTHERCPT3', 'OTHERCPT4', 'OTHERCPT5', 'OTHERCPT6', 'OTHERCPT7', 'OTHERCPT8', 'OTHERCPT9', 'OTHERCPT10']].isin(cpt_codes).any(axis=1)]\n",
    "\n",
    "print(df2020.shape)"
   ]
  },
  {
   "cell_type": "code",
   "execution_count": null,
   "id": "a9542653-5403-410b-bf62-664e14f6462b",
   "metadata": {
    "executionInfo": {
     "elapsed": 69742,
     "status": "ok",
     "timestamp": 1685109210488,
     "user": {
      "displayName": "Mert Karabacak",
      "userId": "14308977132914475412"
     },
     "user_tz": 240
    },
    "id": "a9542653-5403-410b-bf62-664e14f6462b"
   },
   "outputs": [],
   "source": [
    "#Read 2019 data.\n",
    "\n",
    "df2019 = pd.read_csv(\"/content/drive/MyDrive/NSQIP-PUFs/NSQIP_2019.csv\", index_col = 'CASEID', encoding = 'latin1', low_memory = False)\n",
    "\n",
    "df2019.columns = map(str.upper, df2019.columns)"
   ]
  },
  {
   "cell_type": "code",
   "execution_count": null,
   "id": "779f98b3-ebfc-45bc-97b6-084feee4fb16",
   "metadata": {
    "colab": {
     "base_uri": "https://localhost:8080/"
    },
    "executionInfo": {
     "elapsed": 6,
     "status": "ok",
     "timestamp": 1685109210489,
     "user": {
      "displayName": "Mert Karabacak",
      "userId": "14308977132914475412"
     },
     "user_tz": 240
    },
    "id": "779f98b3-ebfc-45bc-97b6-084feee4fb16",
    "outputId": "13129546-6009-42f7-c2b5-2beec0411c7f"
   },
   "outputs": [],
   "source": [
    "#Check 2019 data shape.\n",
    "\n",
    "df2019.shape"
   ]
  },
  {
   "cell_type": "code",
   "execution_count": null,
   "id": "c6fb2a92-7924-4965-8282-2fd54bcac03b",
   "metadata": {
    "colab": {
     "base_uri": "https://localhost:8080/"
    },
    "executionInfo": {
     "elapsed": 3266,
     "status": "ok",
     "timestamp": 1685109213752,
     "user": {
      "displayName": "Mert Karabacak",
      "userId": "14308977132914475412"
     },
     "user_tz": 240
    },
    "id": "c6fb2a92-7924-4965-8282-2fd54bcac03b",
    "outputId": "e9a74213-b7b6-46cb-8b87-cd15200f3094"
   },
   "outputs": [],
   "source": [
    "#Identify patients with CPT codes.\n",
    "\n",
    "df2019 = df2019[df2019[['CPT', 'CONCPT1', 'CONCPT2', 'CONCPT3', 'CONCPT4', 'CONCPT5', 'CONCPT6', 'CONCPT7', 'CONCPT8', 'CONCPT9', 'CONCPT10', 'OTHERCPT1', 'OTHERCPT2', 'OTHERCPT3', 'OTHERCPT4', 'OTHERCPT5', 'OTHERCPT6', 'OTHERCPT7', 'OTHERCPT8', 'OTHERCPT9', 'OTHERCPT10']].isin(cpt_codes).any(axis=1)]\n",
    "\n",
    "print(df2019.shape)"
   ]
  },
  {
   "cell_type": "code",
   "execution_count": null,
   "id": "cb772fcf-d268-4221-93a0-5eb5c265c935",
   "metadata": {
    "executionInfo": {
     "elapsed": 66210,
     "status": "ok",
     "timestamp": 1685109279941,
     "user": {
      "displayName": "Mert Karabacak",
      "userId": "14308977132914475412"
     },
     "user_tz": 240
    },
    "id": "cb772fcf-d268-4221-93a0-5eb5c265c935"
   },
   "outputs": [],
   "source": [
    "#Read 2018 data.\n",
    "\n",
    "df2018 = pd.read_csv(\"/content/drive/MyDrive/NSQIP-PUFs/NSQIP_2018.csv\", index_col = 'CaseID', encoding = 'latin1', low_memory = False)\n",
    "\n",
    "df2018.columns = map(str.upper, df2018.columns)"
   ]
  },
  {
   "cell_type": "code",
   "execution_count": null,
   "id": "e40d915a-d1c3-4efd-b325-6245ec91323d",
   "metadata": {
    "colab": {
     "base_uri": "https://localhost:8080/"
    },
    "executionInfo": {
     "elapsed": 8,
     "status": "ok",
     "timestamp": 1685109279941,
     "user": {
      "displayName": "Mert Karabacak",
      "userId": "14308977132914475412"
     },
     "user_tz": 240
    },
    "id": "e40d915a-d1c3-4efd-b325-6245ec91323d",
    "outputId": "ba5fd5e4-c93f-4385-ecb9-5ab02d860b4c"
   },
   "outputs": [],
   "source": [
    "#Check 2018 data shape.\n",
    "\n",
    "df2018.shape"
   ]
  },
  {
   "cell_type": "code",
   "execution_count": null,
   "id": "e8bc3025-d320-46fb-8a4b-e2ba478dbb30",
   "metadata": {
    "colab": {
     "base_uri": "https://localhost:8080/"
    },
    "executionInfo": {
     "elapsed": 1998,
     "status": "ok",
     "timestamp": 1685109281935,
     "user": {
      "displayName": "Mert Karabacak",
      "userId": "14308977132914475412"
     },
     "user_tz": 240
    },
    "id": "e8bc3025-d320-46fb-8a4b-e2ba478dbb30",
    "outputId": "f4f3ba30-d32e-4fa0-f9a1-7ab0a0efba06"
   },
   "outputs": [],
   "source": [
    "#Identify patients with CPT codes.\n",
    "\n",
    "df2018 = df2018[df2018[['CPT', 'CONCPT1', 'CONCPT2', 'CONCPT3', 'CONCPT4', 'CONCPT5', 'CONCPT6', 'CONCPT7', 'CONCPT8', 'CONCPT9', 'CONCPT10', 'OTHERCPT1', 'OTHERCPT2', 'OTHERCPT3', 'OTHERCPT4', 'OTHERCPT5', 'OTHERCPT6', 'OTHERCPT7', 'OTHERCPT8', 'OTHERCPT9', 'OTHERCPT10']].isin(cpt_codes).any(axis=1)]\n",
    "\n",
    "print(df2018.shape)"
   ]
  },
  {
   "cell_type": "code",
   "execution_count": null,
   "id": "5170bbc1-b5d3-4c09-9657-d25b0ac0ecba",
   "metadata": {
    "executionInfo": {
     "elapsed": 68985,
     "status": "ok",
     "timestamp": 1685109350916,
     "user": {
      "displayName": "Mert Karabacak",
      "userId": "14308977132914475412"
     },
     "user_tz": 240
    },
    "id": "5170bbc1-b5d3-4c09-9657-d25b0ac0ecba"
   },
   "outputs": [],
   "source": [
    "#Read 2017 data.\n",
    "\n",
    "df2017 = pd.read_csv(\"/content/drive/MyDrive/NSQIP-PUFs/NSQIP_2017.csv\", index_col = 'CaseID', encoding = 'latin1', low_memory = False)\n",
    "\n",
    "df2017.columns = map(str.upper, df2017.columns)"
   ]
  },
  {
   "cell_type": "code",
   "execution_count": null,
   "id": "992f5c92-fbb3-48d1-93de-b980c60a9ff3",
   "metadata": {
    "colab": {
     "base_uri": "https://localhost:8080/"
    },
    "executionInfo": {
     "elapsed": 16,
     "status": "ok",
     "timestamp": 1685109350917,
     "user": {
      "displayName": "Mert Karabacak",
      "userId": "14308977132914475412"
     },
     "user_tz": 240
    },
    "id": "992f5c92-fbb3-48d1-93de-b980c60a9ff3",
    "outputId": "64eb0fe6-6483-4ece-99eb-70cef2fcfc8f"
   },
   "outputs": [],
   "source": [
    "#Check 2017 data shape.\n",
    "\n",
    "df2017.shape"
   ]
  },
  {
   "cell_type": "code",
   "execution_count": null,
   "id": "37d5f575-43ab-4f3e-929a-70e0e0a75419",
   "metadata": {
    "colab": {
     "base_uri": "https://localhost:8080/"
    },
    "executionInfo": {
     "elapsed": 2191,
     "status": "ok",
     "timestamp": 1685109353101,
     "user": {
      "displayName": "Mert Karabacak",
      "userId": "14308977132914475412"
     },
     "user_tz": 240
    },
    "id": "37d5f575-43ab-4f3e-929a-70e0e0a75419",
    "outputId": "2db7eb44-34e7-468e-c295-5ed3f76477d9"
   },
   "outputs": [],
   "source": [
    "#Identify patients with CPT codes.\n",
    "\n",
    "df2017 = df2017[df2017[['CPT', 'CONCPT1', 'CONCPT2', 'CONCPT3', 'CONCPT4', 'CONCPT5', 'CONCPT6', 'CONCPT7', 'CONCPT8', 'CONCPT9', 'CONCPT10', 'OTHERCPT1', 'OTHERCPT2', 'OTHERCPT3', 'OTHERCPT4', 'OTHERCPT5', 'OTHERCPT6', 'OTHERCPT7', 'OTHERCPT8', 'OTHERCPT9', 'OTHERCPT10']].isin(cpt_codes).any(axis=1)]\n",
    "\n",
    "print(df2017.shape)"
   ]
  },
  {
   "cell_type": "code",
   "execution_count": null,
   "id": "24ac9edb-b63f-4dae-a208-26ecf6c94b11",
   "metadata": {
    "executionInfo": {
     "elapsed": 68183,
     "status": "ok",
     "timestamp": 1685109421280,
     "user": {
      "displayName": "Mert Karabacak",
      "userId": "14308977132914475412"
     },
     "user_tz": 240
    },
    "id": "24ac9edb-b63f-4dae-a208-26ecf6c94b11"
   },
   "outputs": [],
   "source": [
    "#Read 2016 data.\n",
    "\n",
    "df2016 = pd.read_csv(\"/content/drive/MyDrive/NSQIP-PUFs/NSQIP_2016.csv\", index_col = 'CaseID', encoding = 'latin1', low_memory = False)\n",
    "\n",
    "df2016.columns = map(str.upper, df2016.columns)"
   ]
  },
  {
   "cell_type": "code",
   "execution_count": null,
   "id": "c12cee42-43df-40fc-990e-3e88acd63726",
   "metadata": {
    "colab": {
     "base_uri": "https://localhost:8080/"
    },
    "executionInfo": {
     "elapsed": 17,
     "status": "ok",
     "timestamp": 1685109421281,
     "user": {
      "displayName": "Mert Karabacak",
      "userId": "14308977132914475412"
     },
     "user_tz": 240
    },
    "id": "c12cee42-43df-40fc-990e-3e88acd63726",
    "outputId": "b5428313-a9a3-435c-b7ae-a72e72e7af29"
   },
   "outputs": [],
   "source": [
    "#Check 2016 data shape.\n",
    "\n",
    "df2016.shape"
   ]
  },
  {
   "cell_type": "code",
   "execution_count": null,
   "id": "dd9866b0-c2dc-4da0-b9a6-f738f20b4e7b",
   "metadata": {
    "colab": {
     "base_uri": "https://localhost:8080/"
    },
    "executionInfo": {
     "elapsed": 2031,
     "status": "ok",
     "timestamp": 1685109423303,
     "user": {
      "displayName": "Mert Karabacak",
      "userId": "14308977132914475412"
     },
     "user_tz": 240
    },
    "id": "dd9866b0-c2dc-4da0-b9a6-f738f20b4e7b",
    "outputId": "faf393fa-d518-4564-afc8-4a72e7e47269"
   },
   "outputs": [],
   "source": [
    "#Identify patients with CPT codes.\n",
    "\n",
    "df2016 = df2016[df2016[['CPT', 'CONCPT1', 'CONCPT2', 'CONCPT3', 'CONCPT4', 'CONCPT5', 'CONCPT6', 'CONCPT7', 'CONCPT8', 'CONCPT9', 'CONCPT10', 'OTHERCPT1', 'OTHERCPT2', 'OTHERCPT3', 'OTHERCPT4', 'OTHERCPT5', 'OTHERCPT6', 'OTHERCPT7', 'OTHERCPT8', 'OTHERCPT9', 'OTHERCPT10']].isin(cpt_codes).any(axis=1)]\n",
    "\n",
    "print(df2016.shape)"
   ]
  },
  {
   "cell_type": "code",
   "execution_count": null,
   "id": "j6quRrNMwWSr",
   "metadata": {
    "executionInfo": {
     "elapsed": 58847,
     "status": "ok",
     "timestamp": 1685109482148,
     "user": {
      "displayName": "Mert Karabacak",
      "userId": "14308977132914475412"
     },
     "user_tz": 240
    },
    "id": "j6quRrNMwWSr"
   },
   "outputs": [],
   "source": [
    "#Read 2015 data.\n",
    "\n",
    "df2015 = pd.read_csv(\"/content/drive/MyDrive/NSQIP-PUFs/NSQIP_2015.csv\", index_col = 'CaseID', encoding = 'latin1', low_memory = False)\n",
    "\n",
    "df2015.columns = map(str.upper, df2015.columns)"
   ]
  },
  {
   "cell_type": "code",
   "execution_count": null,
   "id": "yqq_0stxwWS8",
   "metadata": {
    "colab": {
     "base_uri": "https://localhost:8080/"
    },
    "executionInfo": {
     "elapsed": 6,
     "status": "ok",
     "timestamp": 1685109482148,
     "user": {
      "displayName": "Mert Karabacak",
      "userId": "14308977132914475412"
     },
     "user_tz": 240
    },
    "id": "yqq_0stxwWS8",
    "outputId": "804b1145-7929-4b16-ec57-dabeefadcdc4"
   },
   "outputs": [],
   "source": [
    "#Check 2015 data shape.\n",
    "\n",
    "df2015.shape"
   ]
  },
  {
   "cell_type": "code",
   "execution_count": null,
   "id": "GXE8EFZjwWS9",
   "metadata": {
    "colab": {
     "base_uri": "https://localhost:8080/"
    },
    "executionInfo": {
     "elapsed": 2226,
     "status": "ok",
     "timestamp": 1685109484371,
     "user": {
      "displayName": "Mert Karabacak",
      "userId": "14308977132914475412"
     },
     "user_tz": 240
    },
    "id": "GXE8EFZjwWS9",
    "outputId": "190b908c-3618-46b6-e1bc-9d2e73bbe6ca"
   },
   "outputs": [],
   "source": [
    "#Identify patients with CPT codes.\n",
    "\n",
    "df2015 = df2015[df2015[['CPT', 'CONCPT1', 'CONCPT2', 'CONCPT3', 'CONCPT4', 'CONCPT5', 'CONCPT6', 'CONCPT7', 'CONCPT8', 'CONCPT9', 'CONCPT10', 'OTHERCPT1', 'OTHERCPT2', 'OTHERCPT3', 'OTHERCPT4', 'OTHERCPT5', 'OTHERCPT6', 'OTHERCPT7', 'OTHERCPT8', 'OTHERCPT9', 'OTHERCPT10']].isin(cpt_codes).any(axis=1)]\n",
    "\n",
    "print(df2015.shape)"
   ]
  },
  {
   "cell_type": "code",
   "execution_count": null,
   "id": "zLl2Z0XDwYc7",
   "metadata": {
    "executionInfo": {
     "elapsed": 55434,
     "status": "ok",
     "timestamp": 1685109540037,
     "user": {
      "displayName": "Mert Karabacak",
      "userId": "14308977132914475412"
     },
     "user_tz": 240
    },
    "id": "zLl2Z0XDwYc7"
   },
   "outputs": [],
   "source": [
    "#Read 2014 data.\n",
    "\n",
    "df2014 = pd.read_csv(\"/content/drive/MyDrive/NSQIP-PUFs/NSQIP_2014.csv\", index_col = 'CaseID', encoding = 'latin1', low_memory = False)\n",
    "\n",
    "df2014.columns = map(str.upper, df2014.columns)"
   ]
  },
  {
   "cell_type": "code",
   "execution_count": null,
   "id": "8DqBjYe8wYc9",
   "metadata": {
    "colab": {
     "base_uri": "https://localhost:8080/"
    },
    "executionInfo": {
     "elapsed": 11,
     "status": "ok",
     "timestamp": 1685109540038,
     "user": {
      "displayName": "Mert Karabacak",
      "userId": "14308977132914475412"
     },
     "user_tz": 240
    },
    "id": "8DqBjYe8wYc9",
    "outputId": "f2be1a97-ca83-43e7-df09-30db3159ead5"
   },
   "outputs": [],
   "source": [
    "#Check 2014 data shape.\n",
    "\n",
    "df2014.shape"
   ]
  },
  {
   "cell_type": "code",
   "execution_count": null,
   "id": "C9Fp_ZypwYc9",
   "metadata": {
    "colab": {
     "base_uri": "https://localhost:8080/"
    },
    "executionInfo": {
     "elapsed": 1402,
     "status": "ok",
     "timestamp": 1685109541434,
     "user": {
      "displayName": "Mert Karabacak",
      "userId": "14308977132914475412"
     },
     "user_tz": 240
    },
    "id": "C9Fp_ZypwYc9",
    "outputId": "dd6681c9-cbf5-4442-a4e6-3e6140aaafb7"
   },
   "outputs": [],
   "source": [
    "#Identify patients with CPT codes.\n",
    "\n",
    "df2014 = df2014[df2014[['CPT', 'CONCPT1', 'CONCPT2', 'CONCPT3', 'CONCPT4', 'CONCPT5', 'CONCPT6', 'CONCPT7', 'CONCPT8', 'CONCPT9', 'CONCPT10', 'OTHERCPT1', 'OTHERCPT2', 'OTHERCPT3', 'OTHERCPT4', 'OTHERCPT5', 'OTHERCPT6', 'OTHERCPT7', 'OTHERCPT8', 'OTHERCPT9', 'OTHERCPT10']].isin(cpt_codes).any(axis=1)]\n",
    "\n",
    "print(df2014.shape)"
   ]
  },
  {
   "cell_type": "code",
   "execution_count": null,
   "id": "1b7d99af-1e65-4876-af89-7255c85e4160",
   "metadata": {
    "executionInfo": {
     "elapsed": 1065,
     "status": "ok",
     "timestamp": 1685109542744,
     "user": {
      "displayName": "Mert Karabacak",
      "userId": "14308977132914475412"
     },
     "user_tz": 240
    },
    "id": "1b7d99af-1e65-4876-af89-7255c85e4160"
   },
   "outputs": [],
   "source": [
    "#Combine data.\n",
    "\n",
    "dfs = [df2014, df2015, df2016, df2017, df2018, df2019, df2020]\n",
    "\n",
    "combined = pd.concat(dfs)"
   ]
  },
  {
   "cell_type": "code",
   "execution_count": null,
   "id": "8618f193-6d71-4a63-8e03-c55a5a87c117",
   "metadata": {
    "colab": {
     "base_uri": "https://localhost:8080/"
    },
    "executionInfo": {
     "elapsed": 9,
     "status": "ok",
     "timestamp": 1685109542745,
     "user": {
      "displayName": "Mert Karabacak",
      "userId": "14308977132914475412"
     },
     "user_tz": 240
    },
    "id": "8618f193-6d71-4a63-8e03-c55a5a87c117",
    "outputId": "d229d555-9eac-4f72-f25a-e4fab069ac40"
   },
   "outputs": [],
   "source": [
    "#Check data shape.\n",
    "\n",
    "combined.shape"
   ]
  },
  {
   "cell_type": "code",
   "execution_count": null,
   "id": "cd269ba3-7d20-402e-96f1-c4394e1fef3b",
   "metadata": {
    "executionInfo": {
     "elapsed": 6508,
     "status": "ok",
     "timestamp": 1685109549248,
     "user": {
      "displayName": "Mert Karabacak",
      "userId": "14308977132914475412"
     },
     "user_tz": 240
    },
    "id": "cd269ba3-7d20-402e-96f1-c4394e1fef3b"
   },
   "outputs": [],
   "source": [
    "#Save combined data.\n",
    "\n",
    "combined.to_csv('/content/drive/MyDrive/NSQIP-ACDF/combined_data.csv')"
   ]
  }
 ],
 "metadata": {
  "colab": {
   "provenance": []
  },
  "environment": {
   "kernel": "python3",
   "name": "common-cpu.m100",
   "type": "gcloud",
   "uri": "gcr.io/deeplearning-platform-release/base-cpu:m100"
  },
  "kernelspec": {
   "display_name": "Python 3 (ipykernel)",
   "language": "python",
   "name": "python3"
  },
  "language_info": {
   "codemirror_mode": {
    "name": "ipython",
    "version": 3
   },
   "file_extension": ".py",
   "mimetype": "text/x-python",
   "name": "python",
   "nbconvert_exporter": "python",
   "pygments_lexer": "ipython3",
   "version": "3.9.6"
  }
 },
 "nbformat": 4,
 "nbformat_minor": 5
}
