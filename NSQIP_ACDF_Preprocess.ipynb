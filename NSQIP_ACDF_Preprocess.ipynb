{
 "cells": [
  {
   "cell_type": "code",
   "execution_count": null,
   "id": "vZ9ODoBSguOo",
   "metadata": {
    "colab": {
     "base_uri": "https://localhost:8080/"
    },
    "executionInfo": {
     "elapsed": 18645,
     "status": "ok",
     "timestamp": 1685367862282,
     "user": {
      "displayName": "Mert Karabacak",
      "userId": "14308977132914475412"
     },
     "user_tz": 240
    },
    "id": "vZ9ODoBSguOo",
    "outputId": "85356a7d-6e6a-4284-c69c-9c96e9ac75c7"
   },
   "outputs": [],
   "source": [
    "from google.colab import drive\n",
    "drive.mount('/content/drive')"
   ]
  },
  {
   "cell_type": "code",
   "execution_count": null,
   "id": "45bff18b",
   "metadata": {
    "executionInfo": {
     "elapsed": 1881,
     "status": "ok",
     "timestamp": 1685367864160,
     "user": {
      "displayName": "Mert Karabacak",
      "userId": "14308977132914475412"
     },
     "user_tz": 240
    },
    "id": "45bff18b",
    "tags": []
   },
   "outputs": [],
   "source": [
    "import numpy as np\n",
    "import pandas as pd\n",
    "from sklearn.impute import KNNImputer\n",
    "from matplotlib import pyplot as plt\n",
    "\n",
    "pd.set_option('display.max_rows', None)"
   ]
  },
  {
   "cell_type": "code",
   "execution_count": null,
   "id": "721c822b",
   "metadata": {
    "colab": {
     "base_uri": "https://localhost:8080/"
    },
    "executionInfo": {
     "elapsed": 2325,
     "status": "ok",
     "timestamp": 1685367866483,
     "user": {
      "displayName": "Mert Karabacak",
      "userId": "14308977132914475412"
     },
     "user_tz": 240
    },
    "id": "721c822b",
    "outputId": "b07ae4ea-6f97-429b-bfe0-a1912384433a"
   },
   "outputs": [],
   "source": [
    "#Open csv file.\n",
    "\n",
    "data = pd.read_csv(\"/content/drive/MyDrive/NSQIP-ACDF/combined_data.csv\", index_col=0, na_values = -99)"
   ]
  },
  {
   "cell_type": "code",
   "execution_count": null,
   "id": "2ddf793b",
   "metadata": {
    "colab": {
     "base_uri": "https://localhost:8080/"
    },
    "executionInfo": {
     "elapsed": 21,
     "status": "ok",
     "timestamp": 1685367866484,
     "user": {
      "displayName": "Mert Karabacak",
      "userId": "14308977132914475412"
     },
     "user_tz": 240
    },
    "id": "2ddf793b",
    "outputId": "c340e0b1-365a-4dff-cf24-8f2f7fa5b92a"
   },
   "outputs": [],
   "source": [
    "#See all columns.\n",
    "\n",
    "print(list(data.columns))"
   ]
  },
  {
   "cell_type": "code",
   "execution_count": null,
   "id": "6b72f120",
   "metadata": {
    "colab": {
     "base_uri": "https://localhost:8080/"
    },
    "executionInfo": {
     "elapsed": 18,
     "status": "ok",
     "timestamp": 1685367866484,
     "user": {
      "displayName": "Mert Karabacak",
      "userId": "14308977132914475412"
     },
     "user_tz": 240
    },
    "id": "6b72f120",
    "outputId": "6236341b-8922-4b8c-fca2-04d2dc643461"
   },
   "outputs": [],
   "source": [
    "#Check data shape.\n",
    "\n",
    "data.shape"
   ]
  },
  {
   "cell_type": "code",
   "execution_count": null,
   "id": "a143c94a",
   "metadata": {
    "executionInfo": {
     "elapsed": 6,
     "status": "ok",
     "timestamp": 1685367866484,
     "user": {
      "displayName": "Mert Karabacak",
      "userId": "14308977132914475412"
     },
     "user_tz": 240
    },
    "id": "a143c94a"
   },
   "outputs": [],
   "source": [
    "#Define variables of interest (predictor variables, inclusion/exclusion criteria, outcomes of interest).\n",
    "\n",
    "variables = ['SEX', 'RACE_NEW', 'ETHNICITY_HISPANIC', 'CPT', 'STILLINHOSP', 'INOUT', 'TRANST', 'AGE', 'DISCHDEST', 'ANESTHES', 'SURGSPEC', 'ELECTSURG', 'HEIGHT', 'WEIGHT', 'DIABETES', 'SMOKE', 'DYSPNEA', 'FNSTATUS2', 'VENTILAT', 'HXCOPD', 'ASCITES', 'HXCHF', 'HYPERMED', 'RENAFAIL', 'DIALYSIS', 'DISCANCR', 'WNDINF', 'STEROID', 'WTLOSS', 'BLEEDDIS', 'TRANSFUS', 'PRSEPIS', 'PRSODM', 'PRBUN', 'PRCREAT', 'PRALBUM', 'PRBILI', 'PRSGOT', 'PRALKPH', 'PRWBC', 'PRHCT', 'PRPLATE', 'PRPTT', 'PRINR', 'PRPT', 'OTHERCPT1', 'OTHERCPT2', 'OTHERCPT3', 'OTHERCPT4', 'OTHERCPT5', 'OTHERCPT6', 'OTHERCPT7', 'OTHERCPT8', 'OTHERCPT9', 'OTHERCPT10', 'CONCPT1', 'CONCPT2', 'CONCPT3', 'CONCPT4', 'CONCPT5', 'CONCPT6', 'CONCPT7', 'CONCPT8', 'CONCPT9', 'CONCPT10', 'EMERGNCY', 'WNDCLAS', 'ASACLAS', 'TOTHLOS', 'PODIAG', 'PODIAG10', 'READMISSION1']"
   ]
  },
  {
   "cell_type": "code",
   "execution_count": null,
   "id": "a21a408c",
   "metadata": {
    "colab": {
     "base_uri": "https://localhost:8080/"
    },
    "executionInfo": {
     "elapsed": 6,
     "status": "ok",
     "timestamp": 1685367866484,
     "user": {
      "displayName": "Mert Karabacak",
      "userId": "14308977132914475412"
     },
     "user_tz": 240
    },
    "id": "a21a408c",
    "outputId": "58d6770f-4407-4816-94e8-c85712a96e50"
   },
   "outputs": [],
   "source": [
    "#Remove unwanted columns and check data shape.\n",
    "\n",
    "data = data[variables]\n",
    "\n",
    "data.shape"
   ]
  },
  {
   "cell_type": "markdown",
   "id": "M7ZZAbGxpdPz",
   "metadata": {
    "id": "M7ZZAbGxpdPz"
   },
   "source": [
    "#Inclusion Criteria"
   ]
  },
  {
   "cell_type": "code",
   "execution_count": null,
   "id": "66c0ac20",
   "metadata": {
    "colab": {
     "base_uri": "https://localhost:8080/"
    },
    "executionInfo": {
     "elapsed": 366,
     "status": "ok",
     "timestamp": 1685367866847,
     "user": {
      "displayName": "Mert Karabacak",
      "userId": "14308977132914475412"
     },
     "user_tz": 240
    },
    "id": "66c0ac20",
    "outputId": "ba4a772e-b239-4df8-e104-095805eab9d9"
   },
   "outputs": [],
   "source": [
    "#Apply inclusion criteria for elective surgeries.\n",
    "\n",
    "before = data.shape[0]\n",
    "data = data[(data['ELECTSURG'] == 'Yes')]\n",
    "after = data.shape[0]\n",
    "excluded = before - after\n",
    "\n",
    "print('Number of patients before exclusion: ', before)\n",
    "print('Number of patients after exclusion: ', after)\n",
    "print('Number of patients excluded with this criteria: ', excluded)"
   ]
  },
  {
   "cell_type": "code",
   "execution_count": null,
   "id": "056878f5",
   "metadata": {
    "colab": {
     "base_uri": "https://localhost:8080/"
    },
    "executionInfo": {
     "elapsed": 10,
     "status": "ok",
     "timestamp": 1685367866848,
     "user": {
      "displayName": "Mert Karabacak",
      "userId": "14308977132914475412"
     },
     "user_tz": 240
    },
    "id": "056878f5",
    "outputId": "01dd2d8b-6861-447b-98ab-1af67d78c699"
   },
   "outputs": [],
   "source": [
    "#Apply inclusion criteria for general anesthesia.\n",
    "\n",
    "before = data.shape[0]\n",
    "data = data[(data['ANESTHES'] == 'General')]\n",
    "after = data.shape[0]\n",
    "excluded = before - after\n",
    "\n",
    "print('Number of patients before exclusion: ', before)\n",
    "print('Number of patients after exclusion: ', after)\n",
    "print('Number of patients excluded with this criteria: ', excluded)"
   ]
  },
  {
   "cell_type": "code",
   "execution_count": null,
   "id": "7cf0695f",
   "metadata": {
    "colab": {
     "base_uri": "https://localhost:8080/"
    },
    "executionInfo": {
     "elapsed": 199,
     "status": "ok",
     "timestamp": 1685367867045,
     "user": {
      "displayName": "Mert Karabacak",
      "userId": "14308977132914475412"
     },
     "user_tz": 240
    },
    "id": "7cf0695f",
    "outputId": "2168bcd1-e5aa-440d-b150-f7636dafe5e9"
   },
   "outputs": [],
   "source": [
    "#Apply inclusion criteria for surgical specialties.\n",
    "\n",
    "before = data.shape[0]\n",
    "data = data[(data['SURGSPEC'] == 'Neurosurgery') | (data['SURGSPEC'] == 'Orthopedics')]\n",
    "after = data.shape[0]\n",
    "excluded = before - after\n",
    "\n",
    "print('Number of patients before exclusion: ', before)\n",
    "print('Number of patients after exclusion: ', after)\n",
    "print('Number of patients excluded with this criteria: ', excluded)"
   ]
  },
  {
   "cell_type": "markdown",
   "id": "VnSi8Slf1SnD",
   "metadata": {
    "id": "VnSi8Slf1SnD"
   },
   "source": [
    "#Exclusion Criteria"
   ]
  },
  {
   "cell_type": "markdown",
   "id": "ai8XXMGHUa8L",
   "metadata": {
    "id": "ai8XXMGHUa8L"
   },
   "source": [
    "##Other Exclusion Criteria"
   ]
  },
  {
   "cell_type": "code",
   "execution_count": null,
   "id": "bb4d527c",
   "metadata": {
    "colab": {
     "base_uri": "https://localhost:8080/"
    },
    "executionInfo": {
     "elapsed": 16,
     "status": "ok",
     "timestamp": 1685367867045,
     "user": {
      "displayName": "Mert Karabacak",
      "userId": "14308977132914475412"
     },
     "user_tz": 240
    },
    "id": "bb4d527c",
    "outputId": "81cc8261-aedf-4ec6-bcf9-eefcdfb95a59"
   },
   "outputs": [],
   "source": [
    "#Apply exclusion criteria for emergency surgery.\n",
    "\n",
    "before = data.shape[0]\n",
    "data = data[(data['EMERGNCY'] == 'No')]\n",
    "after = data.shape[0]\n",
    "excluded = before - after\n",
    "\n",
    "print('Number of patients before exclusion: ', before)\n",
    "print('Number of patients after exclusion: ', after)\n",
    "print('Number of patients excluded with this criteria: ', excluded)"
   ]
  },
  {
   "cell_type": "code",
   "execution_count": null,
   "id": "b6d72d44",
   "metadata": {
    "colab": {
     "base_uri": "https://localhost:8080/"
    },
    "executionInfo": {
     "elapsed": 11,
     "status": "ok",
     "timestamp": 1685367867045,
     "user": {
      "displayName": "Mert Karabacak",
      "userId": "14308977132914475412"
     },
     "user_tz": 240
    },
    "id": "b6d72d44",
    "outputId": "bd85718c-125c-43f5-dcba-5cb29a06ab8b"
   },
   "outputs": [],
   "source": [
    "#Apply exclusion criteria for wound class.\n",
    "\n",
    "before = data.shape[0]\n",
    "data = data[(data['WNDCLAS'] == '1-Clean')]\n",
    "after = data.shape[0]\n",
    "excluded = before - after\n",
    "\n",
    "print('Number of patients before exclusion: ', before)\n",
    "print('Number of patients after exclusion: ', after)\n",
    "print('Number of patients excluded with this criteria: ', excluded)"
   ]
  },
  {
   "cell_type": "code",
   "execution_count": null,
   "id": "78f75891",
   "metadata": {
    "colab": {
     "base_uri": "https://localhost:8080/"
    },
    "executionInfo": {
     "elapsed": 10,
     "status": "ok",
     "timestamp": 1685367867046,
     "user": {
      "displayName": "Mert Karabacak",
      "userId": "14308977132914475412"
     },
     "user_tz": 240
    },
    "id": "78f75891",
    "outputId": "ef07ae31-8eac-41d1-ed33-daf06d168fa6"
   },
   "outputs": [],
   "source": [
    "#Apply exclusion criteria for preoperative sepsis.\n",
    "\n",
    "before = data.shape[0]\n",
    "data = data[(data['PRSEPIS'] == 'None')]\n",
    "after = data.shape[0]\n",
    "excluded = before - after\n",
    "\n",
    "print('Number of patients before exclusion: ', before)\n",
    "print('Number of patients after exclusion: ', after)\n",
    "print('Number of patients excluded with this criteria: ', excluded)"
   ]
  },
  {
   "cell_type": "code",
   "execution_count": null,
   "id": "3e51b8d4",
   "metadata": {
    "colab": {
     "base_uri": "https://localhost:8080/"
    },
    "executionInfo": {
     "elapsed": 7,
     "status": "ok",
     "timestamp": 1685367867046,
     "user": {
      "displayName": "Mert Karabacak",
      "userId": "14308977132914475412"
     },
     "user_tz": 240
    },
    "id": "3e51b8d4",
    "outputId": "ac2fc074-e226-4596-b31f-1a271c41bcc0"
   },
   "outputs": [],
   "source": [
    "#Apply exclusion criteria for ASA class.\n",
    "\n",
    "before = data.shape[0]\n",
    "data = data[(data['ASACLAS'] != '4-Life Threat') & (data['ASACLAS'] != '5-Moribund') & (data['ASACLAS'] != 'None assigned')]\n",
    "after = data.shape[0]\n",
    "excluded = before - after\n",
    "\n",
    "print('Number of patients before exclusion: ', before)\n",
    "print('Number of patients after exclusion: ', after)\n",
    "print('Number of patients excluded with this criteria: ', excluded)"
   ]
  },
  {
   "cell_type": "code",
   "execution_count": null,
   "id": "keAt399SKT7D",
   "metadata": {
    "colab": {
     "base_uri": "https://localhost:8080/"
    },
    "executionInfo": {
     "elapsed": 238,
     "status": "ok",
     "timestamp": 1685367867280,
     "user": {
      "displayName": "Mert Karabacak",
      "userId": "14308977132914475412"
     },
     "user_tz": 240
    },
    "id": "keAt399SKT7D",
    "outputId": "7f2c195d-3e75-40a5-f782-2a7e1087bd49"
   },
   "outputs": [],
   "source": [
    "#Apply exclusion criteria for patients still in hospital after 30 days.\n",
    "\n",
    "before = data.shape[0]\n",
    "data = data[(data['STILLINHOSP'] == 'No')]\n",
    "after = data.shape[0]\n",
    "excluded = before - after\n",
    "\n",
    "print('Number of patients before exclusion: ', before)\n",
    "print('Number of patients after exclusion: ', after)\n",
    "print('Number of patients excluded with this criteria: ', excluded)"
   ]
  },
  {
   "cell_type": "markdown",
   "id": "JGWsS7aoUXOr",
   "metadata": {
    "id": "JGWsS7aoUXOr"
   },
   "source": [
    "##Based on CPT Codes"
   ]
  },
  {
   "cell_type": "code",
   "execution_count": null,
   "id": "lrQkyLFr3jcd",
   "metadata": {
    "colab": {
     "base_uri": "https://localhost:8080/"
    },
    "executionInfo": {
     "elapsed": 540,
     "status": "ok",
     "timestamp": 1685367867819,
     "user": {
      "displayName": "Mert Karabacak",
      "userId": "14308977132914475412"
     },
     "user_tz": 240
    },
    "id": "lrQkyLFr3jcd",
    "outputId": "27c61029-5eed-4cd0-b7a7-cdfb158b12d0"
   },
   "outputs": [],
   "source": [
    "#Exclude patients with CPT codes that were assigned to be excluding.\n",
    "\n",
    "columns = ['CONCPT' + str(i) for i in range(1, 11)] + ['OTHERCPT' + str(i) for i in range(1, 9)]\n",
    "codes_to_exclude = [22590, 22595, 22600, 22614, 22856, 22858, 22861, 22864]\n",
    "\n",
    "for column in columns:\n",
    "    for code in codes_to_exclude:\n",
    "        data.loc[data[column] == code, 'CPT_EX'] = 'Yes'\n",
    "\n",
    "data.loc[data['CPT_EX'] != 'Yes', 'CPT_EX'] = 'No'\n",
    "\n",
    "before = data.shape[0]\n",
    "data = data[(data['CPT_EX'] == 'No')]\n",
    "after = data.shape[0]\n",
    "excluded = before - after\n",
    "\n",
    "print('Number of patients before exclusion: ', before)\n",
    "print('Number of patients after exclusion: ', after)\n",
    "print('Number of patients excluded with this criteria: ', excluded)"
   ]
  },
  {
   "cell_type": "markdown",
   "id": "VjSfLdDrUOHb",
   "metadata": {
    "id": "VjSfLdDrUOHb"
   },
   "source": [
    "##Based on ICD Codes"
   ]
  },
  {
   "cell_type": "code",
   "execution_count": null,
   "id": "e833d5f3-9f7f-4a3e-8d7a-afc513b32bb0",
   "metadata": {
    "executionInfo": {
     "elapsed": 5,
     "status": "ok",
     "timestamp": 1685367867819,
     "user": {
      "displayName": "Mert Karabacak",
      "userId": "14308977132914475412"
     },
     "user_tz": 240
    },
    "id": "e833d5f3-9f7f-4a3e-8d7a-afc513b32bb0"
   },
   "outputs": [],
   "source": [
    "#See the ICD codes' unique value counts for the patient cohort.\n",
    "\n",
    "icd_codes_df = data['PODIAG10'].value_counts(normalize=False, dropna=False).to_frame()\n",
    "icd_codes_index = icd_codes_df.index.tolist()"
   ]
  },
  {
   "cell_type": "code",
   "execution_count": null,
   "id": "yljUZHWcoy8e",
   "metadata": {
    "colab": {
     "base_uri": "https://localhost:8080/"
    },
    "executionInfo": {
     "elapsed": 5,
     "status": "ok",
     "timestamp": 1685367867820,
     "user": {
      "displayName": "Mert Karabacak",
      "userId": "14308977132914475412"
     },
     "user_tz": 240
    },
    "id": "yljUZHWcoy8e",
    "outputId": "07ede137-5dee-43c5-fe96-e41bdc213952"
   },
   "outputs": [],
   "source": [
    "#Exclude patients with ICD codes that were used less than 10 in the patient population.\n",
    "\n",
    "icd_codes_df = data['PODIAG10'].value_counts(normalize=False, dropna=False).to_frame()\n",
    "\n",
    "icd_codes_df.columns =['Value']\n",
    "\n",
    "icd_codes_df = icd_codes_df[icd_codes_df['Value'] >= 50]\n",
    "\n",
    "icd_to_include = icd_codes_df.index.tolist()\n",
    "\n",
    "before = data.shape[0]\n",
    "data = data[data.PODIAG10.isin(icd_to_include)]\n",
    "after = data.shape[0]\n",
    "excluded = before - after\n",
    "\n",
    "print('Number of patients before exclusion: ', before)\n",
    "print('Number of patients after exclusion: ', after)\n",
    "print('Number of patients excluded with this criteria: ', excluded)"
   ]
  },
  {
   "cell_type": "code",
   "execution_count": null,
   "id": "70a79794-5bfb-4eb4-9578-4fafaaeac68d",
   "metadata": {
    "executionInfo": {
     "elapsed": 840,
     "status": "ok",
     "timestamp": 1685367868658,
     "user": {
      "displayName": "Mert Karabacak",
      "userId": "14308977132914475412"
     },
     "user_tz": 240
    },
    "id": "70a79794-5bfb-4eb4-9578-4fafaaeac68d",
    "tags": []
   },
   "outputs": [],
   "source": [
    "#Get the descriptions for ICD codes.\n",
    "\n",
    "icd10 = pd.read_csv(\"/content/drive/MyDrive/NSQIP-PUFs/ICD10_Descriptions.csv\", index_col = 'PODIAG10', encoding = 'latin1', low_memory = False)\n",
    "icd10 = icd10.filter(items = icd_to_include, axis=0)"
   ]
  },
  {
   "cell_type": "code",
   "execution_count": null,
   "id": "fea582d8-4978-41d4-9d56-0be025df47be",
   "metadata": {
    "executionInfo": {
     "elapsed": 4,
     "status": "ok",
     "timestamp": 1685367868658,
     "user": {
      "displayName": "Mert Karabacak",
      "userId": "14308977132914475412"
     },
     "user_tz": 240
    },
    "id": "fea582d8-4978-41d4-9d56-0be025df47be",
    "tags": []
   },
   "outputs": [],
   "source": [
    "#Save the ICD codes with descriptions and value counts.\n",
    "\n",
    "icd = pd.concat([icd10, icd_codes_df], axis=1)\n",
    "icd.to_csv('/content/drive/MyDrive/NSQIP-ACDF/icd_value_counts.csv')"
   ]
  },
  {
   "cell_type": "markdown",
   "id": "lF0EKCzaZVTL",
   "metadata": {
    "id": "lF0EKCzaZVTL"
   },
   "source": [
    "Stop and review the icd_value_counts.csv file."
   ]
  },
  {
   "cell_type": "code",
   "execution_count": null,
   "id": "IoPCXtGIrW6Y",
   "metadata": {
    "executionInfo": {
     "elapsed": 3,
     "status": "ok",
     "timestamp": 1685367868658,
     "user": {
      "displayName": "Mert Karabacak",
      "userId": "14308977132914475412"
     },
     "user_tz": 240
    },
    "id": "IoPCXtGIrW6Y"
   },
   "outputs": [],
   "source": [
    "#Review the ICD table for excluding patients with exclude patients diagnosed with a fracture, neoplasm, infection, instrumentation related complications or lumbar/thoracic/sacral site diagnoses.\n",
    "\n",
    "icd_to_exclude = ['M96.0', 'S13.161A', 'S12.500A', 'G06.1', 'S13.151A', 'M46.22']\n",
    "\n",
    "data = data[~data.PODIAG10.isin(icd_to_exclude)]"
   ]
  },
  {
   "cell_type": "code",
   "execution_count": null,
   "id": "9ReAHIpq0fdo",
   "metadata": {
    "colab": {
     "base_uri": "https://localhost:8080/"
    },
    "executionInfo": {
     "elapsed": 2,
     "status": "ok",
     "timestamp": 1685367868658,
     "user": {
      "displayName": "Mert Karabacak",
      "userId": "14308977132914475412"
     },
     "user_tz": 240
    },
    "id": "9ReAHIpq0fdo",
    "outputId": "71aaa85f-0fff-4c17-dfd8-03a1717f783e"
   },
   "outputs": [],
   "source": [
    "#Drop patients with missing ICD codes.\n",
    "\n",
    "before = data.shape[0]\n",
    "data = data[data['PODIAG10'].notna()]\n",
    "after = data.shape[0]\n",
    "excluded = before - after\n",
    "\n",
    "print('Number of patients before exclusion: ', before)\n",
    "print('Number of patients after exclusion: ', after)\n",
    "print('Number of patients excluded with this criteria: ', excluded)"
   ]
  },
  {
   "cell_type": "markdown",
   "id": "GPUtYB3R1toP",
   "metadata": {
    "id": "GPUtYB3R1toP"
   },
   "source": [
    "#Renaming and Merging Response Values"
   ]
  },
  {
   "cell_type": "code",
   "execution_count": null,
   "id": "VN6Baalr3os7",
   "metadata": {
    "executionInfo": {
     "elapsed": 278,
     "status": "ok",
     "timestamp": 1685367868934,
     "user": {
      "displayName": "Mert Karabacak",
      "userId": "14308977132914475412"
     },
     "user_tz": 240
    },
    "id": "VN6Baalr3os7"
   },
   "outputs": [],
   "source": [
    "#Capitalize response values for 'SEX'.\n",
    "\n",
    "data.loc[data['SEX'] == 'male', 'SEX'] = 'Male'\n",
    "data.loc[data['SEX'] == 'female', 'SEX'] = 'Female'\n",
    "data.loc[data['SEX'] == 'non-binary', 'SEX'] = 'Non-binary'"
   ]
  },
  {
   "cell_type": "code",
   "execution_count": null,
   "id": "fbf1c8ec",
   "metadata": {
    "colab": {
     "base_uri": "https://localhost:8080/"
    },
    "executionInfo": {
     "elapsed": 23,
     "status": "ok",
     "timestamp": 1685367868934,
     "user": {
      "displayName": "Mert Karabacak",
      "userId": "14308977132914475412"
     },
     "user_tz": 240
    },
    "id": "fbf1c8ec",
    "outputId": "d8319dd7-44c0-44f7-e534-6deb76c2970c"
   },
   "outputs": [],
   "source": [
    "#Check data for race.\n",
    "\n",
    "data['RACE_NEW'].value_counts(normalize=False, dropna=False)"
   ]
  },
  {
   "cell_type": "code",
   "execution_count": null,
   "id": "edfeff13",
   "metadata": {
    "colab": {
     "base_uri": "https://localhost:8080/"
    },
    "executionInfo": {
     "elapsed": 21,
     "status": "ok",
     "timestamp": 1685367868934,
     "user": {
      "displayName": "Mert Karabacak",
      "userId": "14308977132914475412"
     },
     "user_tz": 240
    },
    "id": "edfeff13",
    "outputId": "180bf42c-6e47-4f31-c687-9d7e3604012b"
   },
   "outputs": [],
   "source": [
    "#Simplify 'RACE_NEW' column.\n",
    "\n",
    "data.loc[data['RACE_NEW'] == 'Unknown/Not Reported', 'RACE_NEW'] = 'Other/Unknown'\n",
    "data.loc[data['RACE_NEW'] == 'Some Other Race', 'RACE_NEW'] = 'Other/Unknown'\n",
    "data.loc[data['RACE_NEW'] == 'Native Hawaiian or Other Pacific Islander', 'RACE_NEW'] = 'Other/Unknown'\n",
    "data.loc[data['RACE_NEW'] == 'Race combinations with low frequency', 'RACE_NEW'] = 'Other/Unknown'\n",
    "\n",
    "data['RACE_NEW'].value_counts(normalize=False, dropna=False)"
   ]
  },
  {
   "cell_type": "code",
   "execution_count": null,
   "id": "Xty7qCxrRu0z",
   "metadata": {
    "executionInfo": {
     "elapsed": 15,
     "status": "ok",
     "timestamp": 1685367868934,
     "user": {
      "displayName": "Mert Karabacak",
      "userId": "14308977132914475412"
     },
     "user_tz": 240
    },
    "id": "Xty7qCxrRu0z"
   },
   "outputs": [],
   "source": [
    "#Convert inch to meter and lbs to kg.\n",
    "\n",
    "lbs_to_kg_ratio = 0.453592\n",
    "inch_to_meter_ratio = 0.0254\n",
    "\n",
    "data['HEIGHT'] *= inch_to_meter_ratio\n",
    "data['WEIGHT'] *= lbs_to_kg_ratio"
   ]
  },
  {
   "cell_type": "code",
   "execution_count": null,
   "id": "058b3c3d",
   "metadata": {
    "colab": {
     "base_uri": "https://localhost:8080/"
    },
    "executionInfo": {
     "elapsed": 15,
     "status": "ok",
     "timestamp": 1685367868934,
     "user": {
      "displayName": "Mert Karabacak",
      "userId": "14308977132914475412"
     },
     "user_tz": 240
    },
    "id": "058b3c3d",
    "outputId": "013a4723-c6c7-4ef3-abc3-6e80cb0c0c82"
   },
   "outputs": [],
   "source": [
    "#Check data for transfer status.\n",
    "\n",
    "data['TRANST'].value_counts(normalize=False, dropna=False)"
   ]
  },
  {
   "cell_type": "code",
   "execution_count": null,
   "id": "c3af9dc4",
   "metadata": {
    "colab": {
     "base_uri": "https://localhost:8080/"
    },
    "executionInfo": {
     "elapsed": 12,
     "status": "ok",
     "timestamp": 1685367868934,
     "user": {
      "displayName": "Mert Karabacak",
      "userId": "14308977132914475412"
     },
     "user_tz": 240
    },
    "id": "c3af9dc4",
    "outputId": "ab2f0fe5-83e7-4c28-d6c4-9ec5ddfcd716"
   },
   "outputs": [],
   "source": [
    "#Simplify 'TRANST' column.\n",
    "\n",
    "data.loc[data['TRANST'] == 'Not transferred (admitted from home)', 'TRANST'] = 'Not transferred'\n",
    "data.loc[data['TRANST'] == 'From acute care hospital inpatient', 'TRANST'] = 'Transferred'\n",
    "data.loc[data['TRANST'] == 'Outside emergency department', 'TRANST'] = 'Transferred'\n",
    "data.loc[data['TRANST'] == 'Nursing home - Chronic care - Intermediate care', 'TRANST'] = 'Transferred'\n",
    "data.loc[data['TRANST'] == 'Transfer from other', 'TRANST'] = 'Transferred'\n",
    "\n",
    "data['TRANST'].value_counts(normalize=False, dropna=False)"
   ]
  },
  {
   "cell_type": "code",
   "execution_count": null,
   "id": "ba88fac8",
   "metadata": {
    "colab": {
     "base_uri": "https://localhost:8080/"
    },
    "executionInfo": {
     "elapsed": 9,
     "status": "ok",
     "timestamp": 1685367868934,
     "user": {
      "displayName": "Mert Karabacak",
      "userId": "14308977132914475412"
     },
     "user_tz": 240
    },
    "id": "ba88fac8",
    "outputId": "ea7a916c-cb3a-4b17-8080-0a4305f2ed46"
   },
   "outputs": [],
   "source": [
    "#Check data for dyspnea.\n",
    "\n",
    "data['DYSPNEA'].value_counts(normalize=False, dropna=False)"
   ]
  },
  {
   "cell_type": "code",
   "execution_count": null,
   "id": "5557e3e3",
   "metadata": {
    "colab": {
     "base_uri": "https://localhost:8080/"
    },
    "executionInfo": {
     "elapsed": 6,
     "status": "ok",
     "timestamp": 1685367868934,
     "user": {
      "displayName": "Mert Karabacak",
      "userId": "14308977132914475412"
     },
     "user_tz": 240
    },
    "id": "5557e3e3",
    "outputId": "78ff1dd7-773b-4c31-d75e-d7017fa714b6"
   },
   "outputs": [],
   "source": [
    "#Simplify 'DYSPNEA' column.\n",
    "\n",
    "data.loc[data['DYSPNEA'] == 'No', 'DYSPNEA'] = 'No'\n",
    "data.loc[data['DYSPNEA'] == 'MODERATE EXERTION', 'DYSPNEA'] = 'Yes'\n",
    "data.loc[data['DYSPNEA'] == 'AT REST', 'DYSPNEA'] = 'Yes'\n",
    "\n",
    "data['DYSPNEA'].value_counts(normalize=False, dropna=False)"
   ]
  },
  {
   "cell_type": "code",
   "execution_count": null,
   "id": "238ad170",
   "metadata": {
    "colab": {
     "base_uri": "https://localhost:8080/"
    },
    "executionInfo": {
     "elapsed": 4,
     "status": "ok",
     "timestamp": 1685367868934,
     "user": {
      "displayName": "Mert Karabacak",
      "userId": "14308977132914475412"
     },
     "user_tz": 240
    },
    "id": "238ad170",
    "outputId": "8b86ed23-9c05-4dda-c845-159ab588c6c4"
   },
   "outputs": [],
   "source": [
    "#Check data for diabetes status.\n",
    "\n",
    "data['DIABETES'].value_counts(normalize=False, dropna=False)"
   ]
  },
  {
   "cell_type": "code",
   "execution_count": null,
   "id": "d0378434",
   "metadata": {
    "colab": {
     "base_uri": "https://localhost:8080/"
    },
    "executionInfo": {
     "elapsed": 161,
     "status": "ok",
     "timestamp": 1685367869093,
     "user": {
      "displayName": "Mert Karabacak",
      "userId": "14308977132914475412"
     },
     "user_tz": 240
    },
    "id": "d0378434",
    "outputId": "11cbca17-2db5-4b06-da6b-c85ab56c39f1"
   },
   "outputs": [],
   "source": [
    "#Simplify 'DIABETES' column.\n",
    "\n",
    "data.loc[data['DIABETES'] == 'NO', 'DIABETES'] = 'No'\n",
    "data.loc[data['DIABETES'] == 'NON-INSULIN', 'DIABETES'] = 'Yes'\n",
    "data.loc[data['DIABETES'] == 'INSULIN', 'DIABETES'] = 'Yes'\n",
    "\n",
    "data['DIABETES'].value_counts(normalize=False, dropna=False)"
   ]
  },
  {
   "cell_type": "code",
   "execution_count": null,
   "id": "9fb66caf",
   "metadata": {
    "executionInfo": {
     "elapsed": 13,
     "status": "ok",
     "timestamp": 1685367869093,
     "user": {
      "displayName": "Mert Karabacak",
      "userId": "14308977132914475412"
     },
     "user_tz": 240
    },
    "id": "9fb66caf"
   },
   "outputs": [],
   "source": [
    "#Convert 90+ to 91 and AGE column to integer.\n",
    "\n",
    "data.loc[data['AGE'] == '90+', 'AGE'] = 91\n",
    "data['AGE'] = pd.to_numeric(data['AGE'], downcast='integer')"
   ]
  },
  {
   "cell_type": "code",
   "execution_count": null,
   "id": "2c7063b3",
   "metadata": {
    "colab": {
     "base_uri": "https://localhost:8080/"
    },
    "executionInfo": {
     "elapsed": 12,
     "status": "ok",
     "timestamp": 1685367869093,
     "user": {
      "displayName": "Mert Karabacak",
      "userId": "14308977132914475412"
     },
     "user_tz": 240
    },
    "id": "2c7063b3",
    "outputId": "78822161-7e95-4b2b-ada6-1ee038d7e5d4"
   },
   "outputs": [],
   "source": [
    "#Identify multiple level surgeries with the new column 'Single or Multiple Level Surgery'.\n",
    "\n",
    "columns = ['CPT', 'CONCPT1', 'CONCPT2', 'CONCPT3', 'CONCPT4', 'CONCPT5', 'CONCPT6', \n",
    "           'CONCPT7', 'CONCPT9', 'CONCPT10', 'OTHERCPT1', 'OTHERCPT2', 'OTHERCPT3', \n",
    "           'OTHERCPT4', 'OTHERCPT5', 'OTHERCPT6', 'OTHERCPT7', 'OTHERCPT9', 'OTHERCPT10']\n",
    "\n",
    "codes = [22552, 22585, 22588]\n",
    "\n",
    "for col in columns:\n",
    "    for code in codes:\n",
    "        data.loc[data[col] == code, 'Single or Multiple Level Surgery'] = 'Multiple'\n",
    "\n",
    "data.loc[data['Single or Multiple Level Surgery'] != 'Multiple', 'Single or Multiple Level Surgery'] = 'Single'\n",
    "\n",
    "data['Single or Multiple Level Surgery'].value_counts(dropna=False)"
   ]
  },
  {
   "cell_type": "code",
   "execution_count": null,
   "id": "55ead6a8",
   "metadata": {
    "colab": {
     "base_uri": "https://localhost:8080/"
    },
    "executionInfo": {
     "elapsed": 9,
     "status": "ok",
     "timestamp": 1685367869094,
     "user": {
      "displayName": "Mert Karabacak",
      "userId": "14308977132914475412"
     },
     "user_tz": 240
    },
    "id": "55ead6a8",
    "outputId": "94320b53-243b-4402-f4e4-b601e6f98fb3"
   },
   "outputs": [],
   "source": [
    "#See all columns.\n",
    "\n",
    "print(list(data.columns))"
   ]
  },
  {
   "cell_type": "code",
   "execution_count": null,
   "id": "a7b333b1",
   "metadata": {
    "executionInfo": {
     "elapsed": 7,
     "status": "ok",
     "timestamp": 1685367869094,
     "user": {
      "displayName": "Mert Karabacak",
      "userId": "14308977132914475412"
     },
     "user_tz": 240
    },
    "id": "a7b333b1"
   },
   "outputs": [],
   "source": [
    "#Drop unwanted columns.\n",
    "\n",
    "drop = ['INOUT', 'STILLINHOSP', 'ANESTHES', 'EMERGNCY', 'WNDCLAS', 'ELECTSURG', 'PRSEPIS', 'PODIAG', 'PODIAG10', 'CPT_EX', 'CPT', 'OTHERCPT1', 'OTHERCPT2', 'OTHERCPT3', 'OTHERCPT4', 'OTHERCPT5', 'OTHERCPT6', 'OTHERCPT7', 'OTHERCPT8', 'OTHERCPT9', 'OTHERCPT10', 'CONCPT1', 'CONCPT2', 'CONCPT3', 'CONCPT4', 'CONCPT5', 'CONCPT6', 'CONCPT7', 'CONCPT8', 'CONCPT9', 'CONCPT10']\n",
    "\n",
    "data.drop(drop, axis=1, inplace=True)"
   ]
  },
  {
   "cell_type": "markdown",
   "id": "QYGvdc5_1DM5",
   "metadata": {
    "id": "QYGvdc5_1DM5"
   },
   "source": [
    "#Imputation"
   ]
  },
  {
   "cell_type": "code",
   "execution_count": null,
   "id": "sZfcGFO5TwfZ",
   "metadata": {
    "colab": {
     "base_uri": "https://localhost:8080/"
    },
    "executionInfo": {
     "elapsed": 6,
     "status": "ok",
     "timestamp": 1685367869094,
     "user": {
      "displayName": "Mert Karabacak",
      "userId": "14308977132914475412"
     },
     "user_tz": 240
    },
    "id": "sZfcGFO5TwfZ",
    "outputId": "d5751a6e-994c-4b15-cb6a-8eb5543c330c"
   },
   "outputs": [],
   "source": [
    "#See all columns.\n",
    "\n",
    "print(list(data.columns))"
   ]
  },
  {
   "cell_type": "code",
   "execution_count": null,
   "id": "4dqVo2njS-DJ",
   "metadata": {
    "colab": {
     "base_uri": "https://localhost:8080/"
    },
    "executionInfo": {
     "elapsed": 309,
     "status": "ok",
     "timestamp": 1685367869399,
     "user": {
      "displayName": "Mert Karabacak",
      "userId": "14308977132914475412"
     },
     "user_tz": 240
    },
    "id": "4dqVo2njS-DJ",
    "outputId": "dd6634e6-0859-4fb0-fe0e-fc75a4946bfa"
   },
   "outputs": [],
   "source": [
    "#Define numerical and categorical columns.\n",
    "\n",
    "num_cols = list(data.select_dtypes('number').columns)\n",
    "print('Numerical columns: {}'.format(num_cols), '\\n')\n",
    "\n",
    "cat_cols = list(data.select_dtypes('object').columns)\n",
    "print('Categorical columns: {}'.format(cat_cols))"
   ]
  },
  {
   "cell_type": "code",
   "execution_count": null,
   "id": "11efb52b",
   "metadata": {
    "executionInfo": {
     "elapsed": 5,
     "status": "ok",
     "timestamp": 1685367869399,
     "user": {
      "displayName": "Mert Karabacak",
      "userId": "14308977132914475412"
     },
     "user_tz": 240
    },
    "id": "11efb52b"
   },
   "outputs": [],
   "source": [
    "#Remove outcomes.\n",
    "\n",
    "num_cols_remove = ['TOTHLOS']\n",
    "cat_cols_remove = ['READMISSION1', 'DISCHDEST']\n",
    "\n",
    "num_cols = [i for i in num_cols if i not in num_cols_remove]\n",
    "cat_cols = [i for i in cat_cols if i not in cat_cols_remove]"
   ]
  },
  {
   "cell_type": "code",
   "execution_count": null,
   "id": "CvcMDbHdTIHA",
   "metadata": {
    "colab": {
     "base_uri": "https://localhost:8080/"
    },
    "executionInfo": {
     "elapsed": 5,
     "status": "ok",
     "timestamp": 1685367869399,
     "user": {
      "displayName": "Mert Karabacak",
      "userId": "14308977132914475412"
     },
     "user_tz": 240
    },
    "id": "CvcMDbHdTIHA",
    "outputId": "68d14f35-1f20-4076-d5b0-f811923fcdf8"
   },
   "outputs": [],
   "source": [
    "#Check missing values for numerical columns.\n",
    "\n",
    "missing_num = data[num_cols].isnull().mean().round(4).mul(100).sort_values(ascending=False)\n",
    "\n",
    "print(missing_num, '\\n')\n",
    "\n",
    "missing_num = pd.DataFrame(missing_num)\n",
    "\n",
    "missing_num.columns = ['Value']\n",
    "\n",
    "missing_num = missing_num[missing_num['Value'] > 0]\n",
    "\n",
    "print('Numerical variables with missing values: ', list(missing_num.index), '\\n')\n",
    "\n",
    "print('Number of numerical variables with missing values: ', len(list(missing_num.index)), '\\n')\n",
    "\n",
    "missing_num = missing_num[missing_num['Value'] > 25]\n",
    "\n",
    "missing_num = list(missing_num.index)\n",
    "\n",
    "print('Excluded numerical variables: ', missing_num)"
   ]
  },
  {
   "cell_type": "code",
   "execution_count": null,
   "id": "NBxJPB71TJyB",
   "metadata": {
    "executionInfo": {
     "elapsed": 2,
     "status": "ok",
     "timestamp": 1685367869399,
     "user": {
      "displayName": "Mert Karabacak",
      "userId": "14308977132914475412"
     },
     "user_tz": 240
    },
    "id": "NBxJPB71TJyB"
   },
   "outputs": [],
   "source": [
    "#Drop numerical columns with missing values over 25%.\n",
    "\n",
    "data.drop(missing_num, axis=1, inplace=True)"
   ]
  },
  {
   "cell_type": "code",
   "execution_count": null,
   "id": "ebxwNvfwTK7v",
   "metadata": {
    "executionInfo": {
     "elapsed": 2,
     "status": "ok",
     "timestamp": 1685367869399,
     "user": {
      "displayName": "Mert Karabacak",
      "userId": "14308977132914475412"
     },
     "user_tz": 240
    },
    "id": "ebxwNvfwTK7v"
   },
   "outputs": [],
   "source": [
    "#Define new numerical columns.\n",
    "\n",
    "num_cols = [x for x in num_cols if x not in missing_num]"
   ]
  },
  {
   "cell_type": "code",
   "execution_count": null,
   "id": "ff8609cd",
   "metadata": {
    "executionInfo": {
     "elapsed": 58131,
     "status": "ok",
     "timestamp": 1685367927528,
     "user": {
      "displayName": "Mert Karabacak",
      "userId": "14308977132914475412"
     },
     "user_tz": 240
    },
    "id": "ff8609cd"
   },
   "outputs": [],
   "source": [
    "#Impute missing numerical values.\n",
    "\n",
    "num_imputer = KNNImputer(n_neighbors=5, weights='uniform', metric='nan_euclidean')\n",
    "data[num_cols] = num_imputer.fit_transform(data[num_cols])"
   ]
  },
  {
   "cell_type": "code",
   "execution_count": null,
   "id": "01b6490e",
   "metadata": {
    "colab": {
     "base_uri": "https://localhost:8080/"
    },
    "executionInfo": {
     "elapsed": 336,
     "status": "ok",
     "timestamp": 1685367927852,
     "user": {
      "displayName": "Mert Karabacak",
      "userId": "14308977132914475412"
     },
     "user_tz": 240
    },
    "id": "01b6490e",
    "outputId": "b04816d9-e143-4af7-fe50-18dfcf236f3b"
   },
   "outputs": [],
   "source": [
    "#Check missing values for categorical columns.\n",
    "\n",
    "missing_cat = data[cat_cols].isnull().mean().round(4).mul(100).sort_values(ascending=False)\n",
    "\n",
    "print(missing_cat, '\\n')\n",
    "\n",
    "missing_cat = pd.DataFrame(missing_cat)\n",
    "\n",
    "missing_cat.columns = ['Value']\n",
    "\n",
    "missing_cat = missing_cat[missing_cat['Value'] > 0]\n",
    "\n",
    "print('Categorical variables with missing values: ', list(missing_cat.index), '\\n')\n",
    "\n",
    "print('Number of categorical variables with missing values: ', len(list(missing_cat.index)), '\\n')\n",
    "\n",
    "missing_cat = missing_cat[missing_cat['Value'] > 25]\n",
    "\n",
    "missing_cat = list(missing_cat.index)\n",
    "\n",
    "print('Excluded categorical variables: ', missing_cat)"
   ]
  },
  {
   "cell_type": "code",
   "execution_count": null,
   "id": "89d3cdc4",
   "metadata": {
    "executionInfo": {
     "elapsed": 4,
     "status": "ok",
     "timestamp": 1685367927852,
     "user": {
      "displayName": "Mert Karabacak",
      "userId": "14308977132914475412"
     },
     "user_tz": 240
    },
    "id": "89d3cdc4"
   },
   "outputs": [],
   "source": [
    "#Drop categorical columns with missing values over 25%.\n",
    "\n",
    "data.drop(missing_cat, axis=1, inplace=True)"
   ]
  },
  {
   "cell_type": "code",
   "execution_count": null,
   "id": "680fe385",
   "metadata": {
    "executionInfo": {
     "elapsed": 4,
     "status": "ok",
     "timestamp": 1685367927853,
     "user": {
      "displayName": "Mert Karabacak",
      "userId": "14308977132914475412"
     },
     "user_tz": 240
    },
    "id": "680fe385"
   },
   "outputs": [],
   "source": [
    "#Define new categorical columns.\n",
    "\n",
    "cat_cols = [x for x in cat_cols if x not in missing_cat]"
   ]
  },
  {
   "cell_type": "code",
   "execution_count": null,
   "id": "9250b986",
   "metadata": {
    "executionInfo": {
     "elapsed": 3,
     "status": "ok",
     "timestamp": 1685367927853,
     "user": {
      "displayName": "Mert Karabacak",
      "userId": "14308977132914475412"
     },
     "user_tz": 240
    },
    "id": "9250b986"
   },
   "outputs": [],
   "source": [
    "#Replace missing categorical values with 'Unknown'.\n",
    "\n",
    "for col in cat_cols:\n",
    "    data[col].fillna(value='Unknown', inplace=True)"
   ]
  },
  {
   "cell_type": "markdown",
   "id": "9NoOPB_X0b6p",
   "metadata": {
    "id": "9NoOPB_X0b6p"
   },
   "source": [
    "#Final Touches"
   ]
  },
  {
   "cell_type": "code",
   "execution_count": null,
   "id": "U4QTj_YR0eRB",
   "metadata": {
    "executionInfo": {
     "elapsed": 144,
     "status": "ok",
     "timestamp": 1685367927994,
     "user": {
      "displayName": "Mert Karabacak",
      "userId": "14308977132914475412"
     },
     "user_tz": 240
    },
    "id": "U4QTj_YR0eRB"
   },
   "outputs": [],
   "source": [
    "#Change variable names to field names.\n",
    "\n",
    "data_dictionary = pd.read_csv(\"/content/drive/MyDrive/NSQIP-PUFs/Data_Dictionary.csv\", encoding = 'latin1', index_col = None, low_memory = False)\n",
    "FieldNames = dict(zip(data_dictionary['Variable'], data_dictionary['Field Name']))\n",
    "data.columns = data.columns.map(lambda x: FieldNames.get(x, x))"
   ]
  },
  {
   "cell_type": "code",
   "execution_count": null,
   "id": "2289a865",
   "metadata": {
    "executionInfo": {
     "elapsed": 1592,
     "status": "ok",
     "timestamp": 1685367929584,
     "user": {
      "displayName": "Mert Karabacak",
      "userId": "14308977132914475412"
     },
     "user_tz": 240
    },
    "id": "2289a865"
   },
   "outputs": [],
   "source": [
    "#Save imputed data.\n",
    "\n",
    "data.to_csv('/content/drive/MyDrive/NSQIP-ACDF/imputed_data.csv')"
   ]
  },
  {
   "cell_type": "code",
   "execution_count": null,
   "id": "Az0WqrjUTZDF",
   "metadata": {
    "executionInfo": {
     "elapsed": 15,
     "status": "ok",
     "timestamp": 1685367929587,
     "user": {
      "displayName": "Mert Karabacak",
      "userId": "14308977132914475412"
     },
     "user_tz": 240
    },
    "id": "Az0WqrjUTZDF"
   },
   "outputs": [],
   "source": [
    "#Manual label encoding.\n",
    "\n",
    "data.loc[data['Sex'] == 'Male', 'Sex'] = 0\n",
    "data.loc[data['Sex'] == 'Female', 'Sex'] = 1\n",
    "data.loc[data['Sex'] == 'Non-binary', 'Sex'] = 2\n",
    "data.loc[data['Race'] == 'White', 'Race'] = 0\n",
    "data.loc[data['Race'] == 'Black or African American', 'Race'] = 1\n",
    "data.loc[data['Race'] == 'Asian', 'Race'] = 2\n",
    "data.loc[data['Race'] == 'American Indian or Alaska Native', 'Race'] = 3\n",
    "data.loc[data['Race'] == 'Native Hawaiian or Pacific Islander', 'Race'] = 4\n",
    "data.loc[data['Race'] == 'Other/Unknown', 'Race'] = 4\n",
    "data.loc[data['Hispanic Ethnicity'] == 'No', 'Hispanic Ethnicity'] = 0\n",
    "data.loc[data['Hispanic Ethnicity'] == 'Yes', 'Hispanic Ethnicity'] = 1\n",
    "data.loc[data['Hispanic Ethnicity'] == 'Unknown', 'Hispanic Ethnicity'] = 2\n",
    "data.loc[data['Transfer Status'] == 'Not transferred', 'Transfer Status'] = 0\n",
    "data.loc[data['Transfer Status'] == 'Transferred', 'Transfer Status'] = 1\n",
    "data.loc[data['Transfer Status'] == 'Unknown', 'Transfer Status'] = 2\n",
    "data.loc[data['Surgical Specialty'] == 'Neurosurgery', 'Surgical Specialty'] = 0\n",
    "data.loc[data['Surgical Specialty'] == 'Orthopedics', 'Surgical Specialty'] = 1\n",
    "data.loc[data['Diabetes Mellitus Requiring Therapy'] == 'No', 'Diabetes Mellitus Requiring Therapy'] = 0\n",
    "data.loc[data['Diabetes Mellitus Requiring Therapy'] == 'Yes', 'Diabetes Mellitus Requiring Therapy'] = 1\n",
    "data.loc[data['Current Smoker Status'] == 'No', 'Current Smoker Status'] = 0\n",
    "data.loc[data['Current Smoker Status'] == 'Yes', 'Current Smoker Status'] = 1\n",
    "data.loc[data['Current Smoker Status'] == 'Unknown', 'Current Smoker Status'] = 2\n",
    "data.loc[data['Dyspnea'] == 'No', 'Dyspnea'] = 0\n",
    "data.loc[data['Dyspnea'] == 'Yes', 'Dyspnea'] = 1\n",
    "data.loc[data['Ventilator Dependency'] == 'No', 'Ventilator Dependency'] = 0\n",
    "data.loc[data['Ventilator Dependency'] == 'Yes', 'Ventilator Dependency'] = 1\n",
    "data.loc[data['Functional Status'] == 'Independent', 'Functional Status'] = 0\n",
    "data.loc[data['Functional Status'] == 'Partially Dependent', 'Functional Status'] = 1\n",
    "data.loc[data['Functional Status'] == 'Totally Dependent', 'Functional Status'] = 2\n",
    "data.loc[data['Functional Status'] == 'Unknown', 'Functional Status'] = 3\n",
    "data.loc[data['History of Severe COPD'] == 'No', 'History of Severe COPD'] = 0\n",
    "data.loc[data['History of Severe COPD'] == 'Yes', 'History of Severe COPD'] = 1\n",
    "data.loc[data['Ascites within 30 Days Prior to Surgery'] == 'No', 'Ascites within 30 Days Prior to Surgery'] = 0\n",
    "data.loc[data['Ascites within 30 Days Prior to Surgery'] == 'Yes', 'Ascites within 30 Days Prior to Surgery'] = 1\n",
    "data.loc[data['Congestive Heart Failure within 30 Days Prior to Surgery'] == 'No', 'Congestive Heart Failure within 30 Days Prior to Surgery'] = 0\n",
    "data.loc[data['Congestive Heart Failure within 30 Days Prior to Surgery'] == 'Yes', 'Congestive Heart Failure within 30 Days Prior to Surgery'] = 1\n",
    "data.loc[data['Hypertension Requiring Medication'] == 'No', 'Hypertension Requiring Medication'] = 0\n",
    "data.loc[data['Hypertension Requiring Medication'] == 'Yes', 'Hypertension Requiring Medication'] = 1\n",
    "data.loc[data['Acute Renal Failure'] == 'No', 'Acute Renal Failure'] = 0\n",
    "data.loc[data['Acute Renal Failure'] == 'Yes', 'Acute Renal Failure'] = 1\n",
    "data.loc[data['Currently Requiring or on Dialysis'] == 'No', 'Currently Requiring or on Dialysis'] = 0\n",
    "data.loc[data['Currently Requiring or on Dialysis'] == 'Yes', 'Currently Requiring or on Dialysis'] = 1\n",
    "data.loc[data['Disseminated Cancer'] == 'No', 'Disseminated Cancer'] = 0\n",
    "data.loc[data['Disseminated Cancer'] == 'Yes', 'Disseminated Cancer'] = 1\n",
    "data.loc[data['Open Wound'] == 'No', 'Open Wound'] = 0\n",
    "data.loc[data['Open Wound'] == 'Yes', 'Open Wound'] = 1\n",
    "data.loc[data['Steroid/Immunosuppressant for a Chronic Condition'] == 'No', 'Steroid/Immunosuppressant for a Chronic Condition'] = 0\n",
    "data.loc[data['Steroid/Immunosuppressant for a Chronic Condition'] == 'Yes', 'Steroid/Immunosuppressant for a Chronic Condition'] = 1\n",
    "data.loc[data['Malnourishment'] == 'No', 'Malnourishment'] = 0\n",
    "data.loc[data['Malnourishment'] == 'Yes', 'Malnourishment'] = 1\n",
    "data.loc[data['Bleeding Disorder'] == 'No', 'Bleeding Disorder'] = 0\n",
    "data.loc[data['Bleeding Disorder'] == 'Yes', 'Bleeding Disorder'] = 1\n",
    "data.loc[data['RBC Transfusion within 72 Hours Prior to Surgery'] == 'No', 'RBC Transfusion within 72 Hours Prior to Surgery'] = 0\n",
    "data.loc[data['RBC Transfusion within 72 Hours Prior to Surgery'] == 'Yes', 'RBC Transfusion within 72 Hours Prior to Surgery'] = 1\n",
    "data.loc[data['ASA Classification'] == '1-No Disturb', 'ASA Classification'] = 0\n",
    "data.loc[data['ASA Classification'] == '2-Mild Disturb', 'ASA Classification'] = 1\n",
    "data.loc[data['ASA Classification'] == '3-Severe Disturb', 'ASA Classification'] = 2\n",
    "\n",
    "data.loc[data['Single or Multiple Level Surgery'] == 'Single', 'Single or Multiple Level Surgery'] = 0\n",
    "data.loc[data['Single or Multiple Level Surgery'] == 'Multiple', 'Single or Multiple Level Surgery'] = 1\n",
    "\n",
    "columns = ['Sex', 'Race', 'Hispanic Ethnicity', 'Transfer Status', 'Surgical Specialty', \n",
    "           'Diabetes Mellitus Requiring Therapy', 'Current Smoker Status', 'Dyspnea',\n",
    "           'Ventilator Dependency', 'Functional Status', 'History of Severe COPD',\n",
    "           'Ascites within 30 Days Prior to Surgery',\n",
    "           'Congestive Heart Failure within 30 Days Prior to Surgery',\n",
    "           'Hypertension Requiring Medication', 'Acute Renal Failure',\n",
    "           'Currently Requiring or on Dialysis', 'Disseminated Cancer', 'Open Wound',\n",
    "           'Steroid/Immunosuppressant for a Chronic Condition', 'Malnourishment',\n",
    "           'Bleeding Disorder', 'RBC Transfusion within 72 Hours Prior to Surgery',\n",
    "           'ASA Classification', 'Single or Multiple Level Surgery']\n",
    "\n",
    "for column in columns:\n",
    "    data[column] = data[column].astype(int)"
   ]
  },
  {
   "cell_type": "code",
   "execution_count": null,
   "id": "nQBCJkSC0gnp",
   "metadata": {
    "executionInfo": {
     "elapsed": 871,
     "status": "ok",
     "timestamp": 1685367930448,
     "user": {
      "displayName": "Mert Karabacak",
      "userId": "14308977132914475412"
     },
     "user_tz": 240
    },
    "id": "nQBCJkSC0gnp"
   },
   "outputs": [],
   "source": [
    "#Save final data.\n",
    "\n",
    "data.to_csv('/content/drive/MyDrive/NSQIP-ACDF/final_data.csv')"
   ]
  },
  {
   "cell_type": "code",
   "execution_count": null,
   "id": "4336ba8a",
   "metadata": {
    "executionInfo": {
     "elapsed": 1653,
     "status": "ok",
     "timestamp": 1685368153918,
     "user": {
      "displayName": "Mert Karabacak",
      "userId": "14308977132914475412"
     },
     "user_tz": 240
    },
    "id": "4336ba8a"
   },
   "outputs": [],
   "source": [
    "#Save data for Gradio.\n",
    "\n",
    "gradio = data.copy()\n",
    "\n",
    "gradio.columns = gradio.columns.str.replace(' ', '_', regex=True)\n",
    "gradio.columns = gradio.columns.str.replace('-', '', regex=True)\n",
    "\n",
    "gradio.to_csv('/content/drive/MyDrive/NSQIP-ACDF/gradio_data.csv')"
   ]
  }
 ],
 "metadata": {
  "colab": {
   "provenance": []
  },
  "environment": {
   "kernel": "python3",
   "name": "common-cpu.m100",
   "type": "gcloud",
   "uri": "gcr.io/deeplearning-platform-release/base-cpu:m100"
  },
  "kernelspec": {
   "display_name": "Python 3 (ipykernel)",
   "language": "python",
   "name": "python3"
  },
  "language_info": {
   "codemirror_mode": {
    "name": "ipython",
    "version": 3
   },
   "file_extension": ".py",
   "mimetype": "text/x-python",
   "name": "python",
   "nbconvert_exporter": "python",
   "pygments_lexer": "ipython3",
   "version": "3.9.6"
  }
 },
 "nbformat": 4,
 "nbformat_minor": 5
}
